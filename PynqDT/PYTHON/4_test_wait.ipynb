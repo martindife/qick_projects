{
 "cells": [
  {
   "cell_type": "code",
   "execution_count": 2,
   "id": "3b5c048a",
   "metadata": {},
   "outputs": [
    {
     "data": {
      "application/javascript": [
       "\n",
       "try {\n",
       "require(['notebook/js/codecell'], function(codecell) {\n",
       "  codecell.CodeCell.options_default.highlight_modes[\n",
       "      'magic_text/x-csrc'] = {'reg':[/^%%microblaze/]};\n",
       "  Jupyter.notebook.events.one('kernel_ready.Kernel', function(){\n",
       "      Jupyter.notebook.get_cells().map(function(cell){\n",
       "          if (cell.cell_type == 'code'){ cell.auto_highlight(); } }) ;\n",
       "  });\n",
       "});\n",
       "} catch (e) {};\n"
      ]
     },
     "metadata": {},
     "output_type": "display_data"
    },
    {
     "data": {
      "application/javascript": [
       "\n",
       "try {\n",
       "require(['notebook/js/codecell'], function(codecell) {\n",
       "  codecell.CodeCell.options_default.highlight_modes[\n",
       "      'magic_text/x-csrc'] = {'reg':[/^%%pybind11/]};\n",
       "  Jupyter.notebook.events.one('kernel_ready.Kernel', function(){\n",
       "      Jupyter.notebook.get_cells().map(function(cell){\n",
       "          if (cell.cell_type == 'code'){ cell.auto_highlight(); } }) ;\n",
       "  });\n",
       "});\n",
       "} catch (e) {};\n"
      ]
     },
     "metadata": {},
     "output_type": "display_data"
    }
   ],
   "source": [
    "## QICK LIBRARY\n",
    "from qick import *\n",
    "\n",
    "## tProc Assembler\n",
    "from qick.tprocv2_assembler import Assembler, Logger\n",
    "\n",
    "import numpy as np\n",
    "import time\n",
    "\n",
    "from matplotlib import pyplot as plt\n",
    "\n",
    "##### Load FGPA BitStream\n",
    "soc = QickSoc('./qick_4x2_jac.bit')\n"
   ]
  },
  {
   "cell_type": "code",
   "execution_count": 3,
   "id": "57d889d2",
   "metadata": {},
   "outputs": [
    {
     "name": "stdout",
     "output_type": "stream",
     "text": [
      "Measuring Instructions Between READS\n",
      "-----\n",
      "Test Time Elapsed:  0.010193347930908203\n",
      "Time between Reads Mean > 232\n",
      "Time between Reads Max > 800\n",
      "Time between Reads Min > 225\n"
     ]
    },
    {
     "data": {
      "image/png": "[encoded data removed]",
      "text/plain": [
       "<Figure size 432x288 with 1 Axes>"
      ]
     },
     "metadata": {
      "needs_background": "light"
     },
     "output_type": "display_data"
    }
   ],
   "source": [
    "print('Measuring Instructions Between READS')\n",
    "print('-----')\n",
    "Test_qty  = 1000\n",
    "Time_test  = np.zeros(Test_qty, dtype=np.int32)\n",
    "\n",
    "asm = \"\"\"\n",
    "REG_WR s12  imm #0\n",
    "INIT:\n",
    "   REG_WR s12  op -op(s12 + #1)\n",
    "   JUMP INIT\n",
    "\"\"\"\n",
    "\n",
    "p_txt, p_bin  = Assembler.str_asm2bin(asm)\n",
    "soc.tproc.Load_PMEM(p_bin)\n",
    "#for val in p_txt:\n",
    "#    print (val)\n",
    "\n",
    "soc.tproc.read_sel  = 1\n",
    "\n",
    "start = time.time()\n",
    "\n",
    "soc.tproc.start()\n",
    "for i in range(0,Test_qty):\n",
    "    Time_test[i] = soc.tproc.axi_r_dt1\n",
    "\n",
    "soc.tproc.stop()\n",
    "stop = time.time()\n",
    "\n",
    "\n",
    "Test_var = Time_test[1:] - Time_test[:-1]\n",
    "\n",
    "print('Test Time Elapsed: ',stop-start)\n",
    "print('Time between Reads Mean >',int(np.mean(Test_var)))\n",
    "print('Time between Reads Max >',np.max(Test_var))\n",
    "print('Time between Reads Min >',np.min(Test_var))\n",
    "\n",
    "plt.hist(Test_var, histtype='step', bins=100)\n",
    "a = np.histogram(Test_var)\n",
    "\n"
   ]
  },
  {
   "cell_type": "code",
   "execution_count": 4,
   "id": "cc717eb4",
   "metadata": {},
   "outputs": [
    {
     "name": "stdout",
     "output_type": "stream",
     "text": [
      "Measuring TIME Between READS\n",
      "-----\n",
      "Test Time Elapsed:  0.011041641235351562\n",
      "Time between Reads Mean > 3009\n",
      "Time between Reads Max > 46429\n",
      "Time between Reads Min > 2790\n"
     ]
    },
    {
     "data": {
      "image/png": "[encoded data removed]",
      "text/plain": [
       "<Figure size 432x288 with 1 Axes>"
      ]
     },
     "metadata": {
      "needs_background": "light"
     },
     "output_type": "display_data"
    }
   ],
   "source": [
    "print('Measuring TIME Between READS')\n",
    "print('-----')\n",
    "Test_qty  = 1000\n",
    "Time_test  = np.zeros(Test_qty, dtype=np.int32)\n",
    "\n",
    "asm = \"\"\"\n",
    "JUMP HERE\n",
    "\"\"\"\n",
    "\n",
    "p_txt, p_bin  = Assembler.str_asm2bin(asm)\n",
    "soc.tproc.Load_PMEM(p_bin)\n",
    "\n",
    "start = time.time()\n",
    "\n",
    "soc.tproc.start()\n",
    "for i in range(0,Test_qty):\n",
    "    Time_test[i] = soc.tproc.time_usr\n",
    "soc.tproc.stop()\n",
    "\n",
    "stop = time.time()\n",
    "\n",
    "Test_var = Time_test[1:] - Time_test[:-1]\n",
    "\n",
    "print('Test Time Elapsed: ',stop-start)\n",
    "print('Time between Reads Mean >',int(np.mean(Test_var)))\n",
    "print('Time between Reads Max >',np.max(Test_var))\n",
    "print('Time between Reads Min >',np.min(Test_var))\n",
    "\n",
    "plt.hist(Test_var, histtype='step', bins=100)\n",
    "a = np.histogram(Test_var)"
   ]
  },
  {
   "cell_type": "code",
   "execution_count": 5,
   "id": "587cc7a8",
   "metadata": {},
   "outputs": [
    {
     "name": "stdout",
     "output_type": "stream",
     "text": [
      "Measuring FLAG write TIME> reading s13 and s14\n",
      "Test Time Elapsed:  0.053787946701049805\n",
      "Time between Reads Mean > 431\n",
      "Time between Reads Max > 1111\n",
      "Time between Reads Min > 414\n"
     ]
    },
    {
     "data": {
      "image/png": "[encoded data removed]",
      "text/plain": [
       "<Figure size 432x288 with 1 Axes>"
      ]
     },
     "metadata": {
      "needs_background": "light"
     },
     "output_type": "display_data"
    }
   ],
   "source": [
    "print('Measuring FLAG write TIME> reading s13 and s14')\n",
    "Test_qty  = 1000\n",
    "Time_set = np.zeros(Test_qty, dtype=np.int32)\n",
    "Time_clr = np.zeros(Test_qty, dtype=np.int32)\n",
    "Test_val  = np.zeros(Test_qty, dtype=np.int32)\n",
    "\n",
    "asm = \"\"\"\n",
    "REG_WR s_cfg imm cfg_flg_axi\n",
    "\n",
    "INIT:\n",
    "   REG_WR s12  op -op(s12 + #1)\n",
    "   REG_WR s13  imm #-1 -if(F)\n",
    "   REG_WR s13  imm #2  -if(NF)\n",
    "   JUMP INIT\n",
    "\"\"\"\n",
    "\n",
    "p_txt, p_bin  = Assembler.str_asm2bin(asm)\n",
    "soc.tproc.Load_PMEM(p_bin)\n",
    "#for val in p_txt:\n",
    "#    print (val)\n",
    "\n",
    "soc.tproc.read_sel  = 1\n",
    "\n",
    "start = time.time()\n",
    "soc.tproc.start()\n",
    "for i in range(0,Test_qty):\n",
    "    soc.tproc.set_axi_flg()\n",
    "    Time_set[i] = soc.tproc.axi_r_dt1\n",
    "    soc.tproc.clr_axi_flg()\n",
    "    Time_clr[i] = soc.tproc.axi_r_dt1\n",
    "\n",
    "soc.tproc.stop()\n",
    "stop = time.time()\n",
    "\n",
    "Test_var = Time_clr - Time_set\n",
    "\n",
    "print('Test Time Elapsed: ',stop-start)\n",
    "print('Time between Reads Mean >',int(np.mean(Test_var)))\n",
    "print('Time between Reads Max >',np.max(Test_var))\n",
    "print('Time between Reads Min >',np.min(Test_var))\n",
    "\n",
    "plt.hist(Test_var, histtype='step', bins=100)\n",
    "a = np.histogram(Test_var)\n",
    "\n"
   ]
  },
  {
   "cell_type": "code",
   "execution_count": null,
   "id": "2877189d",
   "metadata": {},
   "outputs": [],
   "source": []
  }
 ],
 "metadata": {
  "kernelspec": {
   "display_name": "Python 3 (ipykernel)",
   "language": "python",
   "name": "python3"
  },
  "language_info": {
   "codemirror_mode": {
    "name": "ipython",
    "version": 3
   },
   "file_extension": ".py",
   "mimetype": "text/x-python",
   "name": "python",
   "nbconvert_exporter": "python",
   "pygments_lexer": "ipython3",
   "version": "3.10.4"
  }
 },
 "nbformat": 4,
 "nbformat_minor": 5
}
