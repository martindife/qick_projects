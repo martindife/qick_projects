{
 "cells": [
  {
   "cell_type": "code",
   "execution_count": 1,
   "id": "3b5c048a",
   "metadata": {},
   "outputs": [
    {
     "data": {
      "application/javascript": [
       "\n",
       "try {\n",
       "require(['notebook/js/codecell'], function(codecell) {\n",
       "  codecell.CodeCell.options_default.highlight_modes[\n",
       "      'magic_text/x-csrc'] = {'reg':[/^%%microblaze/]};\n",
       "  Jupyter.notebook.events.one('kernel_ready.Kernel', function(){\n",
       "      Jupyter.notebook.get_cells().map(function(cell){\n",
       "          if (cell.cell_type == 'code'){ cell.auto_highlight(); } }) ;\n",
       "  });\n",
       "});\n",
       "} catch (e) {};\n"
      ]
     },
     "metadata": {},
     "output_type": "display_data"
    },
    {
     "data": {
      "application/javascript": [
       "\n",
       "try {\n",
       "require(['notebook/js/codecell'], function(codecell) {\n",
       "  codecell.CodeCell.options_default.highlight_modes[\n",
       "      'magic_text/x-csrc'] = {'reg':[/^%%pybind11/]};\n",
       "  Jupyter.notebook.events.one('kernel_ready.Kernel', function(){\n",
       "      Jupyter.notebook.get_cells().map(function(cell){\n",
       "          if (cell.cell_type == 'code'){ cell.auto_highlight(); } }) ;\n",
       "  });\n",
       "});\n",
       "} catch (e) {};\n"
      ]
     },
     "metadata": {},
     "output_type": "display_data"
    }
   ],
   "source": [
    "## QICK LIBRARY\n",
    "from qick import *\n",
    "\n",
    "## tProc Assembler\n",
    "from qick.tprocv2_assembler import Assembler, Logger\n",
    "\n",
    "import numpy as np\n",
    "import time\n",
    "\n",
    "##### Load FGPA BitStream\n",
    "soc = QickSoc('./qick_4x2_jac.bit')\n",
    "#soc?"
   ]
  },
  {
   "cell_type": "code",
   "execution_count": 2,
   "id": "94091a44",
   "metadata": {},
   "outputs": [
    {
     "name": "stdout",
     "output_type": "stream",
     "text": [
      "Configuration Values\n",
      "--------------------\n",
      "soc.tproc.cfg [              type ] =  qick_processor\n",
      "soc.tproc.cfg [          fullpath ] =  qick_processor_0\n",
      "soc.tproc.cfg [         pmem_size ] =  256\n",
      "soc.tproc.cfg [         dmem_size ] =  256\n",
      "soc.tproc.cfg [         wmem_size ] =  1024\n",
      "soc.tproc.cfg [          dreg_qty ] =  32\n",
      "soc.tproc.cfg [       in_port_qty ] =  2\n",
      "soc.tproc.cfg [      out_trig_qty ] =  20\n",
      "soc.tproc.cfg [     out_dport_qty ] =  1\n",
      "soc.tproc.cfg [      out_dport_dw ] =  4\n",
      "soc.tproc.cfg [     out_wport_qty ] =  2\n",
      "soc.tproc.cfg [          has_lfsr ] =  1\n",
      "soc.tproc.cfg [       has_divider ] =  0\n",
      "soc.tproc.cfg [         has_arith ] =  0\n",
      "soc.tproc.cfg [     has_time_read ] =  1\n",
      "soc.tproc.cfg [          has_tnet ] =  0\n",
      "soc.tproc.cfg [          has_qcom ] =  0\n",
      "soc.tproc.cfg [ has_custom_periph ] =  1\n",
      "soc.tproc.cfg [       has_io_ctrl ] =  0\n",
      "soc.tproc.cfg [      has_ext_flag ] =  0\n",
      "soc.tproc.cfg [        fifo_depth ] =  512\n",
      "soc.tproc.cfg [        call_depth ] =  255\n",
      "soc.tproc.cfg [             debug ] =  1\n",
      "soc.tproc.cfg [       output_pins ] =  [('trig', 0, 0, 'PMOD0_0'), ('trig', 1, 0, 'PMOD0_1'), ('trig', 2, 0, 'PMOD0_2'), ('trig', 3, 0, 'PMOD0_3'), ('trig', 4, 0, 'PMOD0_4'), ('trig', 5, 0, 'PMOD0_5'), ('trig', 6, 0, 'PMOD0_6'), ('trig', 7, 0, 'PMOD0_7'), ('trig', 8, 0, 'PMOD01_0'), ('trig', 9, 0, 'PMOD01_1'), ('trig', 10, 0, 'PMOD1_0'), ('trig', 11, 0, 'PMOD1_1'), ('trig', 12, 0, 'PMOD1_2'), ('trig', 13, 0, 'PMOD1_3'), ('trig', 14, 0, 'PMOD1_4'), ('trig', 15, 0, 'PMOD1_5'), ('trig', 16, 0, 'PMOD1_6'), ('trig', 17, 0, 'PMOD1_7'), ('trig', 18, 0, 'PMOD01_2'), ('trig', 19, 0, 'PMOD01_3')]\n",
      "soc.tproc.cfg [         start_pin ] =  None\n",
      "soc.tproc.cfg [            f_core ] =  245.76\n",
      "soc.tproc.cfg [            f_time ] =  307.2\n",
      "CORE CLK : 245.76Mhz\n",
      "TIME CLK : 307.2Mhz\n",
      "CPU  CLK : 1199.988Mhz\n",
      "PL0  CLK : 99.999Mhz\n",
      "PL1  CLK : 99.999Mhz\n",
      "DMA Buffer Size     : 65535 KBytes\n"
     ]
    }
   ],
   "source": [
    "print('Configuration Values')\n",
    "print('--------------------')\n",
    "for cfg_item in soc.tproc.cfg.keys():\n",
    "    print('soc.tproc.cfg [',f'{cfg_item:>17}', '] = ',soc.tproc.cfg[cfg_item])\n",
    "\n",
    "from pynq import Clocks\n",
    "print(\"CORE CLK : \" + str(soc.tproc.cfg['f_core']) + 'Mhz')\n",
    "print(\"TIME CLK : \" + str(soc.tproc.cfg['f_time']) + 'Mhz')\n",
    "print(\"CPU  CLK : \" + str(Clocks.cpu_mhz) + \"Mhz\")\n",
    "print(\"PL0  CLK : \" + str(Clocks.fclk0_mhz) + \"Mhz\")\n",
    "print(\"PL1  CLK : \" + str(Clocks.fclk1_mhz) + \"Mhz\")\n",
    "\n",
    "dma_buff_bytes = soc.axi_dma_tproc.buffer_max_size /1024\n",
    "print(\"DMA Buffer Size     :\" , int(dma_buff_bytes), \"KBytes\")\n"
   ]
  },
  {
   "cell_type": "code",
   "execution_count": 3,
   "id": "d0dcbf05",
   "metadata": {},
   "outputs": [
    {
     "name": "stdout",
     "output_type": "stream",
     "text": [
      "\n",
      "QICK configuration:\n",
      "\n",
      "\tBoard: RFSoC4x2\n",
      "\n",
      "\tSoftware version: 0.2.258\n",
      "\tFirmware timestamp: Wed Apr 17 15:25:32 2024\n",
      "\n",
      "\tGlobal clocks (MHz): tProcessor 307.200, RF reference 491.520\n",
      "\n",
      "\t2 signal generator channels:\n",
      "\t0:\taxis_signal_gen_v6 - envelope memory 65536 samples (13.333 us)\n",
      "\t\tfs=4915.200 MHz, fabric=307.200 MHz, 32-bit DDS, range=4915.200 MHz\n",
      "\t\tDAC tile 0, blk 0 is DAC_B\n",
      "\t1:\taxis_signal_gen_v6 - envelope memory 65536 samples (13.333 us)\n",
      "\t\tfs=4915.200 MHz, fabric=307.200 MHz, 32-bit DDS, range=4915.200 MHz\n",
      "\t\tDAC tile 2, blk 0 is DAC_A\n",
      "\n",
      "\t2 readout channels:\n",
      "\t0:\taxis_readout_v2 - configured by PYNQ\n",
      "\t\tfs=3932.160 MHz, decimated=491.520 MHz, 32-bit DDS, range=3932.160 MHz\n",
      "\t\tmaxlen 16384 accumulated, 1024 decimated (2.083 us)\n",
      "\t\ttriggered by dport 0, pin 0, feedback to tProc input 0\n",
      "\t\tADC tile 0, blk 0 is ADC_D\n",
      "\t1:\taxis_readout_v2 - configured by PYNQ\n",
      "\t\tfs=3932.160 MHz, decimated=491.520 MHz, 32-bit DDS, range=3932.160 MHz\n",
      "\t\tmaxlen 16384 accumulated, 1024 decimated (2.083 us)\n",
      "\t\ttriggered by dport 0, pin 1, feedback to tProc input 1\n",
      "\t\tADC tile 0, blk 1 is ADC_C\n",
      "\n",
      "\t20 digital output pins:\n",
      "\t0:\tPMOD0_0\n",
      "\t1:\tPMOD0_1\n",
      "\t2:\tPMOD0_2\n",
      "\t3:\tPMOD0_3\n",
      "\t4:\tPMOD0_4\n",
      "\t5:\tPMOD0_5\n",
      "\t6:\tPMOD0_6\n",
      "\t7:\tPMOD0_7\n",
      "\t8:\tPMOD01_0\n",
      "\t9:\tPMOD01_1\n",
      "\t10:\tPMOD1_0\n",
      "\t11:\tPMOD1_1\n",
      "\t12:\tPMOD1_2\n",
      "\t13:\tPMOD1_3\n",
      "\t14:\tPMOD1_4\n",
      "\t15:\tPMOD1_5\n",
      "\t16:\tPMOD1_6\n",
      "\t17:\tPMOD1_7\n",
      "\t18:\tPMOD01_2\n",
      "\t19:\tPMOD01_3\n",
      "\n",
      "\ttProc qick_processor: program memory 256 words, data memory 256 words\n",
      "\t\texternal start pin: None\n",
      "---------------------------------------------\n",
      " TPROC V2 INFO \n",
      "---------------------------------------------\n",
      "Configuration:\n",
      "fifo_depth    : 512\n",
      "call_depth    : 255\n",
      "pmem_size     : 256\n",
      "dmem_size     : 256\n",
      "wmem_size     : 1024\n",
      "dreg_qty      : 32\n",
      "in_port_qty   : 2\n",
      "out_trig_qty  : 20\n",
      "out_dport_qty : 1\n",
      "out_dport_dw  : 4\n",
      "out_wport_qty : 2\n",
      "----------\n",
      "Control:\n",
      "has_io_ctrl   : NO\n",
      "has_ext_flag  : NO\n",
      "----------\n",
      "Peripherals:\n",
      "has_lfsr      : YES\n",
      "has_divider   : NO\n",
      "has_arith     : NO\n",
      "has_time_read : YES\n",
      "has_tnet      : NO\n",
      "has_qcom      : NO\n",
      "has_custom_periph: Only PA\n",
      "----------\n",
      "Debug:\n",
      "debug         : AXI_REG\n",
      "----------\n",
      "Clocks:\n",
      "CORE CLK : 245.76Mhz\n",
      "TIME CLK : 307.2Mhz\n",
      "----------\n",
      "\n"
     ]
    }
   ],
   "source": [
    "print(soc)\n",
    "soc.tproc.info()"
   ]
  },
  {
   "cell_type": "code",
   "execution_count": null,
   "id": "f4365d95",
   "metadata": {},
   "outputs": [],
   "source": [
    "soc.tproc.axi_registers()\n",
    "soc.tproc.status()\n",
    "soc.tproc.debug()\n"
   ]
  },
  {
   "cell_type": "code",
   "execution_count": null,
   "id": "25f1f2c3",
   "metadata": {},
   "outputs": [],
   "source": [
    "soc.qtt.print_axi_regs()"
   ]
  },
  {
   "cell_type": "code",
   "execution_count": 20,
   "id": "b581d07e",
   "metadata": {},
   "outputs": [
    {
     "data": {
      "text/plain": [
       "8738133"
      ]
     },
     "execution_count": 20,
     "metadata": {},
     "output_type": "execute_result"
    }
   ],
   "source": [
    "\n",
    "#freq = soc.freq2reg(cfg[\"pulse_freq\"],gen_ch=res_ch, ro_ch=cfg[\"ro_chs\"][0])"
   ]
  },
  {
   "cell_type": "code",
   "execution_count": null,
   "id": "cc352032",
   "metadata": {},
   "outputs": [],
   "source": []
  }
 ],
 "metadata": {
  "kernelspec": {
   "display_name": "Python 3 (ipykernel)",
   "language": "python",
   "name": "python3"
  },
  "language_info": {
   "codemirror_mode": {
    "name": "ipython",
    "version": 3
   },
   "file_extension": ".py",
   "mimetype": "text/x-python",
   "name": "python",
   "nbconvert_exporter": "python",
   "pygments_lexer": "ipython3",
   "version": "3.10.4"
  }
 },
 "nbformat": 4,
 "nbformat_minor": 5
}
