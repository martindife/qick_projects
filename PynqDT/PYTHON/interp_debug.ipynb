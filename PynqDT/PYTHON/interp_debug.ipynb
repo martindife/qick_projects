{
 "cells": [
  {
   "cell_type": "code",
   "execution_count": null,
   "id": "d3fa2216",
   "metadata": {},
   "outputs": [],
   "source": [
    "## QICK LIBRARY\n",
    "from qick import *\n",
    "\n",
    "from random import random\n",
    "import time\n",
    "import pickle\n",
    "import numpy as np\n",
    "\n",
    "## tProc Assembler\n",
    "from qick.tprocv2_assembler import Assembler, Logger\n",
    "\n",
    "##### Load FGPA BitStream\n",
    "\n",
    "##################\n",
    "soc = QickSoc('./qick_216_seb.bit')"
   ]
  },
  {
   "cell_type": "code",
   "execution_count": null,
   "id": "ba84bb67-72cd-4d32-a703-98f94c245cbc",
   "metadata": {},
   "outputs": [],
   "source": [
    "print(soc)"
   ]
  },
  {
   "cell_type": "code",
   "execution_count": null,
   "id": "7fa8e21c-bff6-40c6-b7b2-6dda84159064",
   "metadata": {},
   "outputs": [],
   "source": [
    "def get_mode_code(outsel = 'product', mode = 'oneshot', stdysel='zero', phrst = 0):\n",
    "    outsel_reg = {'product': 0, 'dds': 1, 'input': 2, 'zero': 3}[outsel]\n",
    "    mode_reg = {'oneshot': 0, 'periodic': 1}[mode]\n",
    "    stdysel_reg = {'last': 0, 'zero': 1}[stdysel]\n",
    "\n",
    "    mc = phrst*0b10000+stdysel_reg*0b01000+mode_reg*0b00100+outsel_reg\n",
    "    return mc "
   ]
  },
  {
   "cell_type": "markdown",
   "id": "bca93444-64c6-4691-a50d-c69dead30634",
   "metadata": {
    "tags": []
   },
   "source": [
    "# Generate 50 MHz tone on ch=0 -- DAC tile 0, blk 0 -> 0_228"
   ]
  },
  {
   "cell_type": "code",
   "execution_count": null,
   "id": "964b57e1-8ff2-4675-bd5c-9602d1be4ee4",
   "metadata": {},
   "outputs": [],
   "source": [
    "soc.tproc.tproc_cfg = 1024\n",
    "\n",
    "\n",
    "print('---------------------------------------------')\n",
    "print('Loading WaveParam Memory:')\n",
    "\n",
    "\n",
    "ch = 0\n",
    "freq = 50 # MHz\n",
    "gain = 20000\n",
    "outsel = 'dds'\n",
    "mode = 'periodic'\n",
    "phrst = 0\n",
    "\n",
    "wr_buff = []\n",
    "f = soc.freq2reg(freq, gen_ch=ch)\n",
    "p = 0\n",
    "g = gain\n",
    "e = 0\n",
    "l = soc.us2cycles(1, gen_ch=ch)\n",
    "c = get_mode_code(outsel = outsel, mode = mode, phrst = phrst)\n",
    "wr_buff.append( [f, p,e,g,l,c,0,0] )\n",
    "\n",
    "## load_mem(mem_sel, buff_in, addr):\n",
    "soc.tproc.load_mem(3, wr_buff, 0)\n",
    "\n",
    "print('---------------------------------------------')\n",
    "print(\"Reading WaveParam Memory:\")\n",
    "#read_mem(mem_sel, addr, length):\n",
    "rd_buff = soc.tproc.read_mem(3, 0, 100)\n",
    "print(rd_buff)\n",
    "\n",
    "print('---------------------------------------------')"
   ]
  },
  {
   "cell_type": "code",
   "execution_count": null,
   "id": "d1939ccb-5696-426e-ba25-c6755ea07633",
   "metadata": {},
   "outputs": [],
   "source": [
    "\n",
    "asm = \"\"\"\n",
    "TEST -op(tuser -#307)\n",
    "JUMP HERE -if(S) -op(tuser - #307) -uf\n",
    "JUMP STATE_S0\n",
    "\n",
    "// STATES\n",
    "STATE_S0:\n",
    "  WPORT_WR p%s wmem [&0] @0\n",
    "  TIME inc_ref #3072\n",
    "  JUMP END\n",
    "\n",
    "END:\n",
    "  JUMP END\n",
    "\"\"\" % ch\n",
    "\n",
    "\n",
    "p_txt, p_bin = Assembler.str_asm2bin(asm)\n",
    "# # p_txt is the OP_CODE of the program\n",
    "# print(np.array(p_txt))\n",
    "# # p_bin is the binary data to load in the Memory\n",
    "# print(np.array(p_bin))\n",
    "soc.tproc.Load_PMEM(p_bin)\n",
    "\n",
    "\n",
    "print('--- LOADING MEM')\n",
    "soc.tproc.Load_PMEM(p_bin)\n",
    "\n",
    "print('--- START THE PROCESSOR')\n",
    "soc.tproc.start()"
   ]
  },
  {
   "cell_type": "markdown",
   "id": "101ff2e1-79f1-45aa-ad91-4a41b1b91fbf",
   "metadata": {
    "tags": []
   },
   "source": [
    "# Repeat above code but change to ch=6 -- DAC tile 3, blk 0 -> 0_231\n",
    "\n",
    "Adjusting the channel everything works as expected."
   ]
  },
  {
   "cell_type": "code",
   "execution_count": null,
   "id": "fd941a94-b2ff-44aa-b00b-a8c9b19cc1e0",
   "metadata": {},
   "outputs": [],
   "source": [
    "soc.tproc.tproc_cfg = 1024\n",
    "\n",
    "print('---------------------------------------------')\n",
    "print('Loading WaveParam Memory:')\n",
    "ch = 6\n",
    "freq = 50 # MHz\n",
    "gain = 20000\n",
    "outsel = 'dds'\n",
    "mode = 'periodic'\n",
    "phrst = 0\n",
    "\n",
    "wr_buff = []\n",
    "f = soc.freq2reg(freq, gen_ch=ch)\n",
    "p = 0\n",
    "g = gain\n",
    "e = 0\n",
    "l = soc.us2cycles(1, gen_ch=ch)\n",
    "c = get_mode_code(outsel = outsel, mode = mode, phrst = phrst)\n",
    "wr_buff.append( [f, p,e,g,l,c,0,0] )\n",
    "\n",
    "## load_mem(mem_sel, buff_in, addr):\n",
    "soc.tproc.load_mem(3, wr_buff, 0)\n",
    "\n",
    "print('---------------------------------------------')\n",
    "print(\"Reading WaveParam Memory:\")\n",
    "#read_mem(mem_sel, addr, length):\n",
    "rd_buff = soc.tproc.read_mem(3, 0, 1)\n",
    "print(rd_buff)\n",
    "\n",
    "print('---------------------------------------------')"
   ]
  },
  {
   "cell_type": "code",
   "execution_count": null,
   "id": "88227c73-a460-4949-b22b-095e1f2ffb33",
   "metadata": {},
   "outputs": [],
   "source": [
    "\n",
    "asm = \"\"\"\n",
    "TEST -op(tuser -#307)\n",
    "JUMP HERE -if(S) -op(tuser - #307) -uf\n",
    "JUMP STATE_S0\n",
    "\n",
    "// STATES\n",
    "STATE_S0:\n",
    "  WPORT_WR p4 wmem [&0] @0\n",
    "  WPORT_WR p6 wmem [&0] @0\n",
    "  TIME inc_ref #3072\n",
    "  JUMP END\n",
    "\n",
    "END:\n",
    "  JUMP END\n",
    "\"\"\"\n",
    "\n",
    "\n",
    "p_txt, p_bin = Assembler.str_asm2bin(asm)\n",
    "# # p_txt is the OP_CODE of the program\n",
    "# print(np.array(p_txt))\n",
    "# # p_bin is the binary data to load in the Memory\n",
    "# print(np.array(p_bin))\n",
    "soc.tproc.Load_PMEM(p_bin)\n",
    "\n",
    "\n",
    "print('--- LOADING MEM')\n",
    "soc.tproc.Load_PMEM(p_bin)\n",
    "\n",
    "print('--- START THE PROCESSOR')\n",
    "soc.tproc.start()"
   ]
  },
  {
   "cell_type": "code",
   "execution_count": null,
   "id": "f2e7655d-c35e-4da8-9ab0-6409ef2ada09",
   "metadata": {},
   "outputs": [],
   "source": [
    "print(wr_buff)"
   ]
  },
  {
   "cell_type": "code",
   "execution_count": null,
   "id": "fe5e3934",
   "metadata": {},
   "outputs": [],
   "source": [
    "print(soc.freq2reg(freq, gen_ch=6))\n",
    "print(soc.freq2reg(freq, gen_ch=4))\n"
   ]
  },
  {
   "cell_type": "code",
   "execution_count": null,
   "id": "cfe3071c",
   "metadata": {},
   "outputs": [],
   "source": [
    "soc.tproc.tproc_cfg = 1024\n",
    "\n",
    "print('---------------------------------------------')\n",
    "print('Loading WaveParam Memory:')\n",
    "freq = 75 # MHz\n",
    "gain = 20000\n",
    "outsel = 'dds'\n",
    "mode = 'periodic'\n",
    "phrst = 0\n",
    "\n",
    "wr_buff = []\n",
    "p = 0\n",
    "g = gain\n",
    "e = 0\n",
    "c = get_mode_code(outsel = outsel, mode = mode, phrst = phrst)\n",
    "\n",
    "ch = 4\n",
    "f = soc.freq2reg(freq, gen_ch=ch)\n",
    "l = soc.us2cycles(1, gen_ch=ch)\n",
    "wr_buff.append( [f, p,e,g,l,c,0,0] )\n",
    "\n",
    "ch = 6\n",
    "f = soc.freq2reg(freq, gen_ch=ch)\n",
    "l = soc.us2cycles(1, gen_ch=ch)\n",
    "wr_buff.append( [f, p,e,g,l,c,0,0] )\n",
    "\n",
    "## load_mem(mem_sel, buff_in, addr):\n",
    "soc.tproc.load_mem(3, wr_buff, 0)\n",
    "\n",
    "print('---------------------------------------------')\n",
    "print(\"Reading WaveParam Memory:\")\n",
    "#read_mem(mem_sel, addr, length):\n",
    "rd_buff = soc.tproc.read_mem(3, 0, 4)\n",
    "print(rd_buff)\n",
    "print('---------------------------------------------')\n",
    "\n",
    "\n",
    "asm = \"\"\"\n",
    "TEST -op(tuser -#307)\n",
    "JUMP HERE -if(S) -op(tuser - #307) -uf\n",
    "JUMP STATE_S0\n",
    "\n",
    "// STATES\n",
    "STATE_S0:\n",
    "  WPORT_WR p4 wmem [&0] @0\n",
    "  WPORT_WR p6 wmem [&1] @0\n",
    "  TIME inc_ref #3072\n",
    "  JUMP END\n",
    "\n",
    "END:\n",
    "  JUMP END\n",
    "\"\"\"\n",
    "\n",
    "p_txt, p_bin = Assembler.str_asm2bin(asm)\n",
    "soc.tproc.Load_PMEM(p_bin)\n",
    "\n",
    "\n",
    "print('--- LOADING MEM')\n",
    "soc.tproc.Load_PMEM(p_bin)\n",
    "\n",
    "print('--- START THE PROCESSOR')\n",
    "soc.tproc.start()\n"
   ]
  },
  {
   "cell_type": "code",
   "execution_count": null,
   "id": "59aa8b8c",
   "metadata": {},
   "outputs": [],
   "source": [
    "soc.set_mixer_freq(4, 0)"
   ]
  },
  {
   "cell_type": "code",
   "execution_count": null,
   "id": "5a9826d1",
   "metadata": {},
   "outputs": [],
   "source": [
    "soc.tproc.get_proc_status()"
   ]
  },
  {
   "cell_type": "code",
   "execution_count": null,
   "id": "5ad76aee",
   "metadata": {},
   "outputs": [],
   "source": []
  }
 ],
 "metadata": {
  "kernelspec": {
   "display_name": "Python 3",
   "language": "python",
   "name": "python3"
  },
  "language_info": {
   "codemirror_mode": {
    "name": "ipython",
    "version": 3
   },
   "file_extension": ".py",
   "mimetype": "text/x-python",
   "name": "python",
   "nbconvert_exporter": "python",
   "pygments_lexer": "ipython3",
   "version": "3.8.2"
  }
 },
 "nbformat": 4,
 "nbformat_minor": 5
}
