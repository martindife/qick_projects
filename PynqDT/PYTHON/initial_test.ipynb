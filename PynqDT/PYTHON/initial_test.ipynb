{
 "cells": [
  {
   "cell_type": "code",
   "execution_count": 1,
   "id": "3b5c048a",
   "metadata": {},
   "outputs": [
    {
     "data": {
      "application/javascript": [
       "\n",
       "try {\n",
       "require(['notebook/js/codecell'], function(codecell) {\n",
       "  codecell.CodeCell.options_default.highlight_modes[\n",
       "      'magic_text/x-csrc'] = {'reg':[/^%%microblaze/]};\n",
       "  Jupyter.notebook.events.one('kernel_ready.Kernel', function(){\n",
       "      Jupyter.notebook.get_cells().map(function(cell){\n",
       "          if (cell.cell_type == 'code'){ cell.auto_highlight(); } }) ;\n",
       "  });\n",
       "});\n",
       "} catch (e) {};\n"
      ]
     },
     "metadata": {},
     "output_type": "display_data"
    },
    {
     "data": {
      "application/javascript": [
       "\n",
       "try {\n",
       "require(['notebook/js/codecell'], function(codecell) {\n",
       "  codecell.CodeCell.options_default.highlight_modes[\n",
       "      'magic_text/x-csrc'] = {'reg':[/^%%pybind11/]};\n",
       "  Jupyter.notebook.events.one('kernel_ready.Kernel', function(){\n",
       "      Jupyter.notebook.get_cells().map(function(cell){\n",
       "          if (cell.cell_type == 'code'){ cell.auto_highlight(); } }) ;\n",
       "  });\n",
       "});\n",
       "} catch (e) {};\n"
      ]
     },
     "metadata": {},
     "output_type": "display_data"
    }
   ],
   "source": [
    "## QICK LIBRARY\n",
    "from qick import *\n",
    "\n",
    "## tProc Assembler\n",
    "from qick.tprocv2_assembler import Assembler, Logger\n",
    "\n",
    "import qick.tprocv2_assembler as qasm\n",
    "from importlib import reload  # Python 3.4+\n",
    "\n",
    "import numpy as np\n",
    "import time\n",
    "\n",
    "##### Load FGPA BitStream\n",
    "soc = QickSoc('./qick_4x2_jac.bit')"
   ]
  },
  {
   "cell_type": "code",
   "execution_count": 2,
   "id": "92dd3a5f",
   "metadata": {},
   "outputs": [],
   "source": [
    "reload(qasm)\n",
    "\n",
    "asm = \"\"\"\n",
    "//TEST program\n",
    "\n",
    "REG_WR w_freq   imm #60000000\n",
    "REG_WR w_phase  imm  #0\n",
    "REG_WR w_env    imm  #0\n",
    "REG_WR w_gain   imm #20000\n",
    "REG_WR w_length imm #200\n",
    "\n",
    "//REG_WR w_conf   imm  #1  // NoPHRST - NoPeriodic - DDS\n",
    "//REG_WR w_conf   imm  #5  // NoPHRST - Periodic   - DDS\n",
    "REG_WR w_conf   imm  #17 // PHRST   - NoPeriodic - DDS\n",
    "//REG_WR w_conf   imm  #21 // PHRST   - Periodic   - DDS\n",
    "\n",
    "TIME inc_ref #15000\n",
    "\n",
    "\n",
    "WPORT_WR p0 r_wave\n",
    "WPORT_WR p1 r_wave\n",
    "\n",
    "\n",
    "TRIG p0 set\n",
    "TRIG p1 set\n",
    "TRIG p0 clr\n",
    "TRIG p0 set\n",
    "TRIG p1 set\n",
    "TRIG p2 set\n",
    "TRIG p3 set\n",
    "\n",
    "\n",
    "TRIG p0 clr\n",
    "TRIG p1 clr\n",
    "TRIG p2 clr\n",
    "TRIG p3 clr\n",
    "\n",
    "END: \n",
    "    JUMP END\n",
    "\n",
    "\"\"\"\n",
    "\n",
    "p_txt, p_bin             = Assembler.str_asm2bin(asm)\n",
    "soc.tproc.Load_PMEM(p_bin)\n",
    "\n",
    "#The ZCU216 has a tproc_start and tproc_stop\n",
    "soc.tproc.start()\n",
    "#soc.tproc.axi()\n"
   ]
  },
  {
   "cell_type": "code",
   "execution_count": null,
   "id": "6f4b54c7",
   "metadata": {},
   "outputs": [],
   "source": [
    "from pynq.buffer import allocate\n",
    "addr = 0\n",
    "length = 2\n",
    "\n",
    "buff_rd = allocate(shape=(length, 1), dtype=np.int32)\n",
    "\n",
    "print('LOAD VALUES 1')\n",
    "soc.qtt.mem_addr        = addr\n",
    "soc.qtt.mem_len         = length\n",
    "\n",
    "\n",
    "print('ANTES')\n",
    "soc.qtt.print_debug()\n",
    "soc.qtt.print_debug()\n",
    "\n",
    "\n",
    "print('DMA read 0')\n",
    "#Start operation\n",
    "soc.qtt.qtt_ctrl         = 4\n",
    "print('DMA read 1')\n",
    "soc.qtt.dma.recvchannel.transfer(buff_rd, nbytes=int(length*4))\n",
    "print('DMA read 2')\n",
    "#soc.qtt.dma.recvchannel.wait()\n",
    "print('DMA read 3')\n",
    "soc.qtt.print_debug()\n",
    "soc.qtt.print_debug()\n"
   ]
  },
  {
   "cell_type": "code",
   "execution_count": null,
   "id": "53e69d48",
   "metadata": {},
   "outputs": [],
   "source": [
    "print(buff_rd)\n",
    "print(len(buff_rd))"
   ]
  },
  {
   "cell_type": "code",
   "execution_count": null,
   "id": "0a7cfedc",
   "metadata": {},
   "outputs": [],
   "source": [
    "# WHen READ check READ SIZE IS SMALL THAN DMA_QTY...\n",
    "\n",
    "soc.qtt.print_axi_regs()\n",
    "soc.qtt.print_debug()\n"
   ]
  },
  {
   "cell_type": "code",
   "execution_count": null,
   "id": "d0de6306",
   "metadata": {},
   "outputs": [],
   "source": [
    "soc.qtt.print_debug()\n",
    "soc.qtt.print_debug()\n"
   ]
  },
  {
   "cell_type": "code",
   "execution_count": null,
   "id": "c22d6326",
   "metadata": {},
   "outputs": [],
   "source": [
    "#soc.qtt.info()"
   ]
  },
  {
   "cell_type": "code",
   "execution_count": null,
   "id": "7997a698",
   "metadata": {},
   "outputs": [],
   "source": []
  }
 ],
 "metadata": {
  "kernelspec": {
   "display_name": "Python 3 (ipykernel)",
   "language": "python",
   "name": "python3"
  },
  "language_info": {
   "codemirror_mode": {
    "name": "ipython",
    "version": 3
   },
   "file_extension": ".py",
   "mimetype": "text/x-python",
   "name": "python",
   "nbconvert_exporter": "python",
   "pygments_lexer": "ipython3",
   "version": "3.10.4"
  }
 },
 "nbformat": 4,
 "nbformat_minor": 5
}
