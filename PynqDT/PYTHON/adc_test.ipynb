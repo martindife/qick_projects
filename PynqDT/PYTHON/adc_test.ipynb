{
 "cells": [
  {
   "cell_type": "code",
   "execution_count": 1,
   "id": "3b5c048a",
   "metadata": {},
   "outputs": [
    {
     "data": {
      "application/javascript": [
       "\n",
       "try {\n",
       "require(['notebook/js/codecell'], function(codecell) {\n",
       "  codecell.CodeCell.options_default.highlight_modes[\n",
       "      'magic_text/x-csrc'] = {'reg':[/^%%microblaze/]};\n",
       "  Jupyter.notebook.events.one('kernel_ready.Kernel', function(){\n",
       "      Jupyter.notebook.get_cells().map(function(cell){\n",
       "          if (cell.cell_type == 'code'){ cell.auto_highlight(); } }) ;\n",
       "  });\n",
       "});\n",
       "} catch (e) {};\n"
      ]
     },
     "metadata": {},
     "output_type": "display_data"
    },
    {
     "data": {
      "application/javascript": [
       "\n",
       "try {\n",
       "require(['notebook/js/codecell'], function(codecell) {\n",
       "  codecell.CodeCell.options_default.highlight_modes[\n",
       "      'magic_text/x-csrc'] = {'reg':[/^%%pybind11/]};\n",
       "  Jupyter.notebook.events.one('kernel_ready.Kernel', function(){\n",
       "      Jupyter.notebook.get_cells().map(function(cell){\n",
       "          if (cell.cell_type == 'code'){ cell.auto_highlight(); } }) ;\n",
       "  });\n",
       "});\n",
       "} catch (e) {};\n"
      ]
     },
     "metadata": {},
     "output_type": "display_data"
    },
    {
     "name": "stdout",
     "output_type": "stream",
     "text": [
      "DAC tile 1 locked: True\n",
      "ADC tile 0 locked: True\n",
      "\n",
      "QICK configuration:\n",
      "\n",
      "\tBoard: ZCU111\n",
      "\n",
      "\tSoftware version: 0.2.266\n",
      "\tFirmware timestamp: Fri Jun 21 15:13:06 2024\n",
      "\n",
      "\tGlobal clocks (MHz): tProcessor 409.600, RF reference 204.800\n",
      "\n",
      "\t2 signal generator channels:\n",
      "\t0:\taxis_signal_gen_v6 - envelope memory 65536 samples (10.000 us)\n",
      "\t\tfs=6553.600 MHz, fabric=409.600 MHz, 32-bit DDS, range=6553.600 MHz\n",
      "\t\tDAC tile 1, blk 1 is DAC229_T1_CH1 or RF board output 5\n",
      "\t1:\taxis_signal_gen_v6 - envelope memory 65536 samples (10.000 us)\n",
      "\t\tfs=6553.600 MHz, fabric=409.600 MHz, 32-bit DDS, range=6553.600 MHz\n",
      "\t\tDAC tile 1, blk 3 is DAC229_T1_CH3 or RF board output 7\n",
      "\n",
      "\t0 readout channels:\n",
      "\n",
      "\t4 digital output pins:\n",
      "\t0:\tPMOD0_0\n",
      "\t1:\tPMOD0_1\n",
      "\t2:\tPMOD0_2\n",
      "\t3:\tPMOD0_3\n",
      "\n",
      "\ttProc qick_processor (\"v2\") rev 20: program memory 256 words, data memory 256 words\n",
      "\t\texternal start pin: None\n",
      "---------------------------------------------\n",
      " QICK Time Tagger INFO \n",
      "---------------------------------------------\n",
      "Connections:\n",
      " ADC0 : ADC tile 0, blk 0 is ADC224_T0_CH0 or RF board AC input 0\n",
      " ADC1 : Not Connected\n",
      " ADC2 : Not Connected\n",
      " ADC3 : Not Connected\n",
      "Configuration:\n",
      " adc_qty       : 1\n",
      " tag_mem_size  : 262144\n",
      " cmp_slope     : 0\n",
      " cmp_inter     : 4\n",
      " arm_store     : 1\n",
      " arm_mem_size  : 1024\n",
      " smp_store     : 1\n",
      " smp_mem_size  : 524288\n",
      "----------\n",
      "\n"
     ]
    }
   ],
   "source": [
    "## QICK LIBRARY\n",
    "from qick import *\n",
    "\n",
    "## tProc Assembler\n",
    "from qick.tprocv2_assembler import Assembler, Logger\n",
    "\n",
    "import qick.tprocv2_assembler as qasm\n",
    "from importlib import reload  # Python 3.4+\n",
    "\n",
    "import numpy as np\n",
    "import time\n",
    "\n",
    "##### Load FGPA BitStream\n",
    "soc = QickSoc('./qick_111_nur.bit')\n",
    "for iTile in soc.dac_tiles:\n",
    "    print(\"DAC tile %d locked: %s\"%(iTile, soc.rf.dac_tiles[iTile].PLLLockStatus == 2))\n",
    "for iTile in soc.adc_tiles:\n",
    "    print(\"ADC tile %d locked: %s\"%(iTile, soc.rf.adc_tiles[iTile].PLLLockStatus == 2))\n",
    "print(soc)\n",
    "soc.qtt.info()"
   ]
  },
  {
   "cell_type": "code",
   "execution_count": 40,
   "id": "fcf9dc7f",
   "metadata": {},
   "outputs": [
    {
     "name": "stdout",
     "output_type": "stream",
     "text": [
      "OLD settings: {'ThresholdMode': 3, 'ThresholdAvgVal': 5, 'ThresholdUnderVal': 100, 'ThresholdOverVal': 100}\n",
      "OLD settings: {'ThresholdMode': 3, 'ThresholdAvgVal': 5, 'ThresholdUnderVal': 200, 'ThresholdOverVal': 200}\n",
      "NEW settings: {'ThresholdMode': 3, 'ThresholdAvgVal': 100, 'ThresholdUnderVal': 100, 'ThresholdOverVal': 100}\n",
      "NEW settings: {'ThresholdMode': 2, 'ThresholdAvgVal': 200, 'ThresholdUnderVal': 200, 'ThresholdOverVal': 200}\n"
     ]
    }
   ],
   "source": [
    "import xrfdc\n",
    "\n",
    "# this sets tile 0 block 0 threshold 0 to hysteresis mode, the same interface is used to set/read threshold levels\n",
    "#print(soc.rf.adc_tiles[0].blocks[0].thresholds[0].Settings)\n",
    "#print(soc.rf.adc_tiles[0].blocks[0].thresholds[1].Settings)\n",
    "\n",
    "thresh_settings = soc.rf.adc_tiles[0].blocks[0].thresholds[0].Settings.copy()\n",
    "print(\"OLD settings:\",thresh_settings)\n",
    "thresh_settings = soc.rf.adc_tiles[0].blocks[0].thresholds[1].Settings.copy()\n",
    "print(\"OLD settings:\",thresh_settings)\n",
    "\n",
    "thresh_settings['ThresholdMode']     = xrfdc.TRSHD_HYSTERISIS\n",
    "thresh_settings['ThresholdAvgVal']   = 100\n",
    "thresh_settings['ThresholdUnderVal'] = 100\n",
    "thresh_settings['ThresholdOverVal']  = 100\n",
    "soc.rf.adc_tiles[0].blocks[0].thresholds[0].Settings = thresh_settings\n",
    "\n",
    "thresh_settings['ThresholdMode']     = xrfdc.TRSHD_STICKY_UNDER\n",
    "thresh_settings['ThresholdAvgVal']   = 200\n",
    "thresh_settings['ThresholdUnderVal'] = 200\n",
    "thresh_settings['ThresholdOverVal']  = 200\n",
    "soc.rf.adc_tiles[0].blocks[0].thresholds[1].Settings = thresh_settings\n",
    "\n",
    "\n",
    "print(\"NEW settings:\",soc.rf.adc_tiles[0].blocks[0].thresholds[0].Settings)\n",
    "print(\"NEW settings:\",soc.rf.adc_tiles[0].blocks[0].thresholds[1].Settings)\n",
    "\n",
    "# this sets tile 0 block 0 threshold 0 to manual clear\n",
    "soc.rf.adc_tiles[0].blocks[0].thresholds[0].SetClrMode(xrfdc.THRESHOLD_CLRMD_MANUAL_CLR)\n",
    "\n",
    "# this calls XRFdc_ThresholdStickyClear() with tile 0 block 0 threshold 0\n",
    "soc.rf.adc_tiles[0].blocks[0].thresholds[0].StickyClear()"
   ]
  },
  {
   "cell_type": "code",
   "execution_count": 154,
   "id": "92dd3a5f",
   "metadata": {},
   "outputs": [],
   "source": [
    "reload(qasm)\n",
    "asm = \"\"\"\n",
    "//TEST program\n",
    "\n",
    ".ALIAS counter r0\n",
    "\n",
    "TIME inc_ref #10000\n",
    "\n",
    "// Set Waveform\n",
    "REG_WR w_freq   imm #430000\n",
    "REG_WR w_gain   imm #30000\n",
    "REG_WR w_conf   imm #17 // PHRST   - NoPeriodic - DDS\n",
    "REG_WR w_phase  imm #0\n",
    "REG_WR w_env    imm #0\n",
    "REG_WR w_length imm #2500\n",
    "\n",
    "\n",
    "// OUT Waveform\n",
    "WPORT_WR p0 r_wave\n",
    "WPORT_WR p1 r_wave\n",
    "\n",
    "// Time Increment\n",
    "REG_WR s14 op -op(s14 + #40) \n",
    "\n",
    "// OUT Pulses\n",
    "TRIG p0 set\n",
    "TRIG p1 clr\n",
    "TRIG p2 clr\n",
    "\n",
    "// Time Increment\n",
    "REG_WR s14 op -op(s14 + #600) \n",
    "TRIG p0 clr\n",
    "TRIG p1 set\n",
    "TRIG p2 clr\n",
    "\n",
    "// Time Increment\n",
    "REG_WR s14 op -op(s14 + #600) \n",
    "TRIG p0 clr\n",
    "TRIG p1 clr\n",
    "TRIG p2 set\n",
    "\n",
    "// Time Increment\n",
    "REG_WR s14 op -op(s14 + #600) \n",
    "TRIG p0 clr\n",
    "TRIG p1 clr\n",
    "TRIG p2 clr\n",
    "\n",
    "END: \n",
    "    JUMP END\n",
    "\n",
    "\"\"\"\n",
    "\n",
    "# this sets tile 0 block 0 threshold 0 to manual clear\n",
    "soc.rf.adc_tiles[0].blocks[0].thresholds[0].SetClrMode(xrfdc.THRESHOLD_CLRMD_AUTO_CLR)\n",
    "soc.rf.adc_tiles[0].blocks[0].thresholds[1].SetClrMode(xrfdc.THRESHOLD_CLRMD_AUTO_CLR)\n",
    "#THRESHOLD_CLRMD_MANUAL_CLR = 0x1\n",
    "#THRESHOLD_CLRMD_AUTO_CLR   = 0x2\n",
    "#TRSHD_OFF                  = 0x0\n",
    "#TRSHD_STICKY_OVER          = 0x1\n",
    "#TRSHD_STICKY_UNDER         = 0x2\n",
    "#TRSHD_HYSTERISIS           = 0x3\n",
    "\n",
    "\n",
    "#thresh_settings['ThresholdMode']     = xrfdc.TRSHD_HYSTERISIS\n",
    "#thresh_settings['ThresholdMode']     = xrfdc.TRSHD_HYSTERISIS\n",
    "thresh_settings['ThresholdMode']     = xrfdc.TRSHD_HYSTERISIS\n",
    "\n",
    "thresh_settings['ThresholdAvgVal']   = 10\n",
    "thresh_settings['ThresholdUnderVal'] = 2500\n",
    "thresh_settings['ThresholdOverVal']  = 2500\n",
    "soc.rf.adc_tiles[0].blocks[0].thresholds[0].Settings = thresh_settings\n",
    "\n",
    "thresh_settings['ThresholdMode']     = xrfdc.TRSHD_HYSTERISIS\n",
    "thresh_settings['ThresholdAvgVal']   = 10\n",
    "thresh_settings['ThresholdUnderVal'] = 3500\n",
    "thresh_settings['ThresholdOverVal']  = 3500\n",
    "soc.rf.adc_tiles[0].blocks[0].thresholds[1].Settings = thresh_settings\n",
    "\n",
    "\n",
    "time.sleep(1)\n",
    "\n",
    "p_txt, p_bin             = Assembler.str_asm2bin(asm)\n",
    "soc.tproc.Load_PMEM(p_bin)\n",
    "\n",
    "soc.tproc.start()\n",
    "time.sleep(1)\n",
    "#soc.tproc.stop()\n"
   ]
  },
  {
   "cell_type": "code",
   "execution_count": null,
   "id": "df4b8de5",
   "metadata": {},
   "outputs": [],
   "source": [
    "soc.tproc.print_axi_regs()"
   ]
  },
  {
   "cell_type": "code",
   "execution_count": null,
   "id": "6f4039c7",
   "metadata": {},
   "outputs": [],
   "source": [
    "soc.tproc.start()\n",
    "soc.tproc.print_status()\n",
    "soc.tproc.stop()\n",
    "soc.tproc.print_debug()"
   ]
  },
  {
   "cell_type": "code",
   "execution_count": null,
   "id": "5b333b59",
   "metadata": {},
   "outputs": [],
   "source": [
    "soc.qtt.print_axi_regs()"
   ]
  },
  {
   "cell_type": "code",
   "execution_count": null,
   "id": "d5eed121",
   "metadata": {},
   "outputs": [],
   "source": [
    "print(soc.qtt.tag0_qty)"
   ]
  },
  {
   "cell_type": "code",
   "execution_count": null,
   "id": "c228086c",
   "metadata": {},
   "outputs": [],
   "source": [
    "soc.qtt.print_debug()"
   ]
  },
  {
   "cell_type": "code",
   "execution_count": null,
   "id": "256a4bf8",
   "metadata": {},
   "outputs": [],
   "source": [
    "soc.qtt.info()"
   ]
  },
  {
   "cell_type": "code",
   "execution_count": null,
   "id": "d82edb41",
   "metadata": {},
   "outputs": [],
   "source": [
    "#tag0 = soc.qtt.read_mem('TAG0',100)"
   ]
  },
  {
   "cell_type": "code",
   "execution_count": null,
   "id": "6f046cb3",
   "metadata": {},
   "outputs": [],
   "source": [
    "soc.qtt.get_config()"
   ]
  },
  {
   "cell_type": "code",
   "execution_count": null,
   "id": "b123302c",
   "metadata": {},
   "outputs": [],
   "source": [
    "soc.qtt.set_threshold(100)\n",
    "soc.qtt.set_dead_time(10)\n"
   ]
  },
  {
   "cell_type": "code",
   "execution_count": null,
   "id": "ffa768d7",
   "metadata": {},
   "outputs": [],
   "source": [
    "soc.qtt.print_debug()"
   ]
  },
  {
   "cell_type": "code",
   "execution_count": null,
   "id": "b99873fa",
   "metadata": {},
   "outputs": [],
   "source": [
    "soc.qtt.arm()\n",
    "soc.qtt.disarm()"
   ]
  },
  {
   "cell_type": "code",
   "execution_count": null,
   "id": "e866dbfe",
   "metadata": {},
   "outputs": [],
   "source": [
    "soc?"
   ]
  },
  {
   "cell_type": "code",
   "execution_count": null,
   "id": "76720541",
   "metadata": {},
   "outputs": [],
   "source": [
    "a = soc.qtt.pop_dt()\n",
    "print(a)"
   ]
  },
  {
   "cell_type": "code",
   "execution_count": null,
   "id": "735794f6",
   "metadata": {},
   "outputs": [],
   "source": [
    "print(soc)"
   ]
  },
  {
   "cell_type": "code",
   "execution_count": null,
   "id": "685518a3",
   "metadata": {},
   "outputs": [],
   "source": [
    "soc.qtt.get_config()"
   ]
  },
  {
   "cell_type": "code",
   "execution_count": null,
   "id": "c7a7040b",
   "metadata": {},
   "outputs": [],
   "source": [
    "soc.qtt.set_threshold(32768)\n",
    "soc.qtt.set_dead_time(100)"
   ]
  },
  {
   "cell_type": "code",
   "execution_count": null,
   "id": "6a30af6e",
   "metadata": {
    "scrolled": true
   },
   "outputs": [],
   "source": [
    "soc.qtt.print_debug()"
   ]
  },
  {
   "cell_type": "code",
   "execution_count": null,
   "id": "e48d1578",
   "metadata": {},
   "outputs": [],
   "source": [
    "soc.qtt.print_axi_regs()"
   ]
  },
  {
   "cell_type": "code",
   "execution_count": null,
   "id": "c2aa0ff4",
   "metadata": {},
   "outputs": [],
   "source": [
    "print(soc.qtt.read_mem('TAG0', 65535))\n",
    "soc.qtt.print_axi_regs()"
   ]
  },
  {
   "cell_type": "code",
   "execution_count": null,
   "id": "a4047bbb",
   "metadata": {},
   "outputs": [],
   "source": [
    "soc.qick_com_0?"
   ]
  },
  {
   "cell_type": "code",
   "execution_count": null,
   "id": "c8e7f862",
   "metadata": {},
   "outputs": [],
   "source": [
    "soc.qick_com_0.print_axi_regs()"
   ]
  },
  {
   "cell_type": "code",
   "execution_count": null,
   "id": "6b268b7f",
   "metadata": {},
   "outputs": [],
   "source": [
    "soc.qick_com_0.send_byte(15, 2)"
   ]
  },
  {
   "cell_type": "code",
   "execution_count": null,
   "id": "2bd7fae0",
   "metadata": {},
   "outputs": [],
   "source": []
  },
  {
   "cell_type": "code",
   "execution_count": null,
   "id": "1a9e3654",
   "metadata": {},
   "outputs": [],
   "source": []
  }
 ],
 "metadata": {
  "kernelspec": {
   "display_name": "Python 3 (ipykernel)",
   "language": "python",
   "name": "python3"
  },
  "language_info": {
   "codemirror_mode": {
    "name": "ipython",
    "version": 3
   },
   "file_extension": ".py",
   "mimetype": "text/x-python",
   "name": "python",
   "nbconvert_exporter": "python",
   "pygments_lexer": "ipython3",
   "version": "3.10.4"
  }
 },
 "nbformat": 4,
 "nbformat_minor": 5
}
