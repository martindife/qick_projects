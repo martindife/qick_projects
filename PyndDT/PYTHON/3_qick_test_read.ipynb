{
 "cells": [
  {
   "cell_type": "code",
   "execution_count": 1,
   "id": "b2b053fc",
   "metadata": {},
   "outputs": [
    {
     "data": {
      "application/javascript": [
       "\n",
       "try {\n",
       "require(['notebook/js/codecell'], function(codecell) {\n",
       "  codecell.CodeCell.options_default.highlight_modes[\n",
       "      'magic_text/x-csrc'] = {'reg':[/^%%microblaze/]};\n",
       "  Jupyter.notebook.events.one('kernel_ready.Kernel', function(){\n",
       "      Jupyter.notebook.get_cells().map(function(cell){\n",
       "          if (cell.cell_type == 'code'){ cell.auto_highlight(); } }) ;\n",
       "  });\n",
       "});\n",
       "} catch (e) {};\n"
      ]
     },
     "metadata": {},
     "output_type": "display_data"
    },
    {
     "data": {
      "application/javascript": [
       "\n",
       "try {\n",
       "require(['notebook/js/codecell'], function(codecell) {\n",
       "  codecell.CodeCell.options_default.highlight_modes[\n",
       "      'magic_text/x-csrc'] = {'reg':[/^%%pybind11/]};\n",
       "  Jupyter.notebook.events.one('kernel_ready.Kernel', function(){\n",
       "      Jupyter.notebook.get_cells().map(function(cell){\n",
       "          if (cell.cell_type == 'code'){ cell.auto_highlight(); } }) ;\n",
       "  });\n",
       "});\n",
       "} catch (e) {};\n"
      ]
     },
     "metadata": {},
     "output_type": "display_data"
    }
   ],
   "source": [
    "## QICK LIBRARY\n",
    "from qick import *\n",
    "\n",
    "## tProc Assembler\n",
    "from qick.tprocv2_assembler import Assembler, Logger, LFSR\n",
    "\n",
    "import numpy as np\n",
    "import time\n",
    "\n",
    "##### Load FGPA BitStream\n",
    "soc = QickSoc('./qick_4x2_jac.bit')\n"
   ]
  },
  {
   "cell_type": "code",
   "execution_count": 2,
   "id": "cb806690",
   "metadata": {},
   "outputs": [
    {
     "name": "stdout",
     "output_type": "stream",
     "text": [
      "TPROC_W_DT ( READ_SEL= 0 ) =      12345-      6789\n",
      "CORE0_W_DT ( READ_SEL= 1 ) =         12-        13\n",
      "RFU        ( READ_SEL= 2 ) =          0-         0\n",
      "DIV (Q-R)  ( READ_SEL= 3 ) =          0-         0\n",
      "ARITH(L-H) ( READ_SEL= 4 ) =          0-         0\n",
      "TNET       ( READ_SEL= 5 ) =          0-         0\n",
      "PERIPH     ( READ_SEL= 6 ) =          0-         0\n",
      "PORT       ( READ_SEL= 7 ) =          0-         0\n",
      "RAND       ( READ_SEL= 8 ) =          0-         0\n",
      "RFU        ( READ_SEL= 9 ) =          0-         0\n",
      "RFU        ( READ_SEL=10 ) = 3394343811-         0\n",
      "RFU        ( READ_SEL=11 ) =          0-         0\n",
      "RFU        ( READ_SEL=12 ) =          0-         0\n",
      "RFU        ( READ_SEL=13 ) =          0-         0\n",
      "RFU        ( READ_SEL=14 ) =          0-         0\n",
      "RFU        ( READ_SEL=15 ) =          0-         0\n"
     ]
    }
   ],
   "source": [
    "asm = \"\"\"\n",
    "//TEST program\n",
    "// Write CORE_W_DT SFR\n",
    "REG_WR s12 imm #12\n",
    "REG_WR s13 imm #13\n",
    "\n",
    "// Calculate 9 / 4 > Q=2 R=1\n",
    "REG_WR r1 imm #9\n",
    "REG_WR r2 imm #4\n",
    "DIV r1 r2\n",
    "// Calculate (2+3)*5-10 = 15\n",
    "REG_WR r1 imm #2\n",
    "REG_WR r2 imm #3\n",
    "REG_WR r3 imm #5\n",
    "REG_WR r4 imm #10\n",
    "ARITH PTM r1 r2 r3 r4\n",
    "FLAG set\n",
    "\"\"\"\n",
    "p_txt, p_bin  = Assembler.str_asm2bin(asm)\n",
    "\n",
    "soc.tproc.Load_PMEM(p_bin)\n",
    "\n",
    "soc.tproc.start()\n",
    "soc.tproc.stop()\n",
    "\n",
    "soc.tproc.axi_w_dt1 = 12345\n",
    "soc.tproc.axi_w_dt2 = 6789\n",
    "soc.tproc.core_cfg  = 1\n",
    "\n",
    "src_list = ['TPROC_W_DT','CORE0_W_DT','RFU','DIV (Q-R)','ARITH(L-H)','TNET','PERIPH','PORT','RAND','RFU','RFU','RFU','RFU','RFU','RFU','RFU',]\n",
    "for ind in range(16):\n",
    "    soc.tproc.read_sel  = ind\n",
    "    print(\"{:10} ( READ_SEL={:2} ) = {:10}-{:10}\".format(src_list[ind],soc.tproc.read_sel, soc.tproc.axi_r_dt1, soc.tproc.axi_r_dt2) )\n",
    "\n"
   ]
  },
  {
   "cell_type": "code",
   "execution_count": 3,
   "id": "3ba056e1",
   "metadata": {},
   "outputs": [
    {
     "name": "stdout",
     "output_type": "stream",
     "text": [
      "TIME_USR:  67891\n",
      "TIME_USR:  271610\n",
      "TIME_USR:  357463\n",
      "TIME_USR:  443635\n"
     ]
    }
   ],
   "source": [
    "soc.tproc.start()\n",
    "print('TIME_USR: ', soc.tproc.time_usr)\n",
    "print('TIME_USR: ', soc.tproc.time_usr)\n",
    "print('TIME_USR: ', soc.tproc.time_usr)\n",
    "print('TIME_USR: ', soc.tproc.time_usr)\n",
    "\n"
   ]
  },
  {
   "cell_type": "code",
   "execution_count": null,
   "id": "9f38835c",
   "metadata": {},
   "outputs": [],
   "source": []
  }
 ],
 "metadata": {
  "kernelspec": {
   "display_name": "Python 3 (ipykernel)",
   "language": "python",
   "name": "python3"
  },
  "language_info": {
   "codemirror_mode": {
    "name": "ipython",
    "version": 3
   },
   "file_extension": ".py",
   "mimetype": "text/x-python",
   "name": "python",
   "nbconvert_exporter": "python",
   "pygments_lexer": "ipython3",
   "version": "3.10.4"
  }
 },
 "nbformat": 4,
 "nbformat_minor": 5
}
