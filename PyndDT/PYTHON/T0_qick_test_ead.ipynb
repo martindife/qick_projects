{
 "cells": [
  {
   "cell_type": "code",
   "execution_count": 1,
   "id": "b2b053fc",
   "metadata": {},
   "outputs": [
    {
     "data": {
      "application/javascript": [
       "\n",
       "try {\n",
       "require(['notebook/js/codecell'], function(codecell) {\n",
       "  codecell.CodeCell.options_default.highlight_modes[\n",
       "      'magic_text/x-csrc'] = {'reg':[/^%%microblaze/]};\n",
       "  Jupyter.notebook.events.one('kernel_ready.Kernel', function(){\n",
       "      Jupyter.notebook.get_cells().map(function(cell){\n",
       "          if (cell.cell_type == 'code'){ cell.auto_highlight(); } }) ;\n",
       "  });\n",
       "});\n",
       "} catch (e) {};\n"
      ]
     },
     "metadata": {},
     "output_type": "display_data"
    },
    {
     "data": {
      "application/javascript": [
       "\n",
       "try {\n",
       "require(['notebook/js/codecell'], function(codecell) {\n",
       "  codecell.CodeCell.options_default.highlight_modes[\n",
       "      'magic_text/x-csrc'] = {'reg':[/^%%pybind11/]};\n",
       "  Jupyter.notebook.events.one('kernel_ready.Kernel', function(){\n",
       "      Jupyter.notebook.get_cells().map(function(cell){\n",
       "          if (cell.cell_type == 'code'){ cell.auto_highlight(); } }) ;\n",
       "  });\n",
       "});\n",
       "} catch (e) {};\n"
      ]
     },
     "metadata": {},
     "output_type": "display_data"
    }
   ],
   "source": [
    "## QICK LIBRARY\n",
    "from qick import *\n",
    "\n",
    "from random import random\n",
    "import time\n",
    "import pickle\n",
    "import numpy as np\n",
    "\n",
    "## tProc Assembler\n",
    "from qick.tprocv2_assembler import Assembler, Logger\n",
    "\n",
    "##### Load FGPA BitStream\n",
    "\n",
    "##################\n",
    "soc = QickSoc('./qick_111_rfbv2.bit')\n"
   ]
  },
  {
   "cell_type": "code",
   "execution_count": 3,
   "id": "898233e9",
   "metadata": {},
   "outputs": [
    {
     "name": "stdout",
     "output_type": "stream",
     "text": [
      "---------------------------------------------\n",
      " TPROC V2 INFO \n",
      "---------------------------------------------\n",
      "pmem_size     : 1024\n",
      "dmem_size     : 1024\n",
      "wmem_size     : 1024\n",
      "dreg_qty      : 16\n",
      "in_port_qty   : 2\n",
      "out_trig_qty  : 2\n",
      "out_dport_qty : 2\n",
      "out_dport_dw  : 8\n",
      "out_wport_qty : 8\n",
      "\n",
      "Configuration:\n",
      "has_io_ctrl   : YES\n",
      "\n",
      "Peripherals:\n",
      "has_lfsr      : NO\n",
      "has_divider   : NO\n",
      "has_arith     : YES\n",
      "has_time_read : YES\n",
      "has_tnet      : NO\n",
      "has_custom_periph: NO\n"
     ]
    }
   ],
   "source": [
    "soc.tproc.info()"
   ]
  },
  {
   "cell_type": "code",
   "execution_count": 2,
   "id": "cb806690",
   "metadata": {},
   "outputs": [
    {
     "name": "stdout",
     "output_type": "stream",
     "text": [
      "TPROC_W_DT ( READ_SEL= 0 ) =      12345-      6789\n",
      "CORE0_W_DT ( READ_SEL= 1 ) =         12-        13\n",
      "RFU        ( READ_SEL= 2 ) =          0-         0\n",
      "DIV (Q-R)  ( READ_SEL= 3 ) =          0-         0\n",
      "ARITH(L-H) ( READ_SEL= 4 ) =         15-         0\n",
      "TNET       ( READ_SEL= 5 ) =          0-         0\n",
      "PERIPH     ( READ_SEL= 6 ) =          0-         0\n",
      "PORT       ( READ_SEL= 7 ) =          0-         0\n",
      "RAND       ( READ_SEL= 8 ) =          0-         0\n",
      "RFU        ( READ_SEL= 9 ) =          0-         0\n",
      "RFU        ( READ_SEL=10 ) =          0-         0\n",
      "RFU        ( READ_SEL=11 ) =          0-         0\n",
      "RFU        ( READ_SEL=12 ) =          0-         0\n",
      "RFU        ( READ_SEL=13 ) =          0-         0\n",
      "RFU        ( READ_SEL=14 ) =          0-         0\n",
      "RFU        ( READ_SEL=15 ) =          0-         0\n"
     ]
    }
   ],
   "source": [
    "asm = \"\"\"\n",
    "//TEST program\n",
    "// Write CORE_W_DT SFR\n",
    "REG_WR s12 imm #12\n",
    "REG_WR s13 imm #13\n",
    "\n",
    "// Calculate 9 / 4 > Q=2 R=1\n",
    "REG_WR r1 imm #9\n",
    "REG_WR r2 imm #4\n",
    "DIV r1 r2\n",
    "// Calculate (2+3)*5-10 = 15\n",
    "REG_WR r1 imm #2\n",
    "REG_WR r2 imm #3\n",
    "REG_WR r3 imm #5\n",
    "REG_WR r4 imm #10\n",
    "ARITH PTM r1 r2 r3 r4\n",
    "FLAG set\n",
    "\"\"\"\n",
    "p_txt, p_bin  = Assembler.str_asm2bin(asm)\n",
    "\n",
    "soc.tproc.Load_PMEM(p_bin)\n",
    "\n",
    "soc.tproc.start()\n",
    "soc.tproc.stop()\n",
    "\n",
    "soc.tproc.tproc_w_dt1 = 12345\n",
    "soc.tproc.tproc_w_dt2 = 6789\n",
    "soc.tproc.core_cfg  = 1\n",
    "\n",
    "src_list = ['TPROC_W_DT','CORE0_W_DT','RFU','DIV (Q-R)','ARITH(L-H)','TNET','PERIPH','PORT','RAND','RFU','RFU','RFU','RFU','RFU','RFU','RFU',]\n",
    "for ind in range(16):\n",
    "    soc.tproc.read_sel  = ind\n",
    "    print(\"{:10} ( READ_SEL={:2} ) = {:10}-{:10}\".format(src_list[ind],soc.tproc.read_sel, soc.tproc.tproc_r_dt1, soc.tproc.tproc_r_dt2) )\n",
    "\n"
   ]
  },
  {
   "cell_type": "code",
   "execution_count": null,
   "id": "3ba056e1",
   "metadata": {},
   "outputs": [],
   "source": [
    "soc.tproc.start()\n",
    "soc.tproc.get_axi()\n",
    "soc.tproc.get_status()\n",
    "soc.tproc.get_debug()\n",
    "print('TIME_USR: ', soc.tproc.time_usr)\n",
    "print('TIME_USR: ', soc.tproc.time_usr)\n",
    "\n"
   ]
  },
  {
   "cell_type": "code",
   "execution_count": 40,
   "id": "c711cd1a",
   "metadata": {},
   "outputs": [
    {
     "name": "stdout",
     "output_type": "stream",
     "text": [
      "TPROC_W_DT ( READ_SEL= 0 ) =      12345-      6789\n",
      "CORE0_W_DT ( READ_SEL= 1 ) =         10-      1110\n",
      "RFU        ( READ_SEL= 2 ) =          0-         0\n",
      "DIV (Q-R)  ( READ_SEL= 3 ) =          0-         0\n",
      "ARITH(L-H) ( READ_SEL= 4 ) =         15-         0\n",
      "TNET       ( READ_SEL= 5 ) =          0-         0\n",
      "PERIPH     ( READ_SEL= 6 ) =          0-         0\n",
      "PORT       ( READ_SEL= 7 ) =          0-         0\n",
      "RAND       ( READ_SEL= 8 ) =          0-         0\n",
      "RFU        ( READ_SEL= 9 ) =          0-         0\n",
      "RFU        ( READ_SEL=10 ) =          0-         0\n",
      "RFU        ( READ_SEL=11 ) =          0-         0\n",
      "RFU        ( READ_SEL=12 ) =          0-         0\n",
      "RFU        ( READ_SEL=13 ) =          0-         0\n",
      "RFU        ( READ_SEL=14 ) =          0-         0\n",
      "RFU        ( READ_SEL=15 ) =          0-         0\n",
      "---------------------------------------------\n",
      "Reading Data Memory:\n",
      "[[1 0 0 0 0 0 0 0]\n",
      " [1 0 0 0 0 0 0 0]\n",
      " [1 0 0 0 0 0 0 0]\n",
      " [1 0 0 0 0 0 0 0]\n",
      " [1 0 0 0 0 0 0 0]\n",
      " [1 0 0 0 0 0 0 0]\n",
      " [1 0 0 0 0 0 0 0]\n",
      " [1 0 0 0 0 0 0 0]\n",
      " [1 0 0 0 0 0 0 0]\n",
      " [1 0 0 0 0 0 0 0]]\n"
     ]
    }
   ],
   "source": [
    "asm = \"\"\"\n",
    "REG_WR s12 imm #0 \n",
    "REG_WR s13 imm #100\n",
    "\n",
    "TIME #384 inc_ref \n",
    "\n",
    "REG_WR r0 imm #10\n",
    "\n",
    "REPS:\n",
    "     REG_WR s14 imm #0 \n",
    "     // Send Waveform\n",
    "     WPORT_WR p7 wmem [&0] \n",
    "     // Send Pulse\n",
    "     REG_WR s14 imm #100 \n",
    "     DPORT_WR p1 imm 1 \n",
    "     DPORT_WR p0 imm 1 \n",
    "     REG_WR s14 imm #200\n",
    "     DPORT_WR p1 imm 0 \n",
    "     DPORT_WR p0 imm 0 \n",
    "     \n",
    "     WAIT [&13] @500\n",
    "     DMEM_WR [s12] op -op(s10) \n",
    "     DPORT_RD p0 \n",
    "     //DMEM_WR [s12] op -op(s8) \n",
    "     \n",
    "     WAIT [&17] @153 \n",
    "     TIME #38553 inc_ref \n",
    "     REG_WR s12 op -op(s12 + #1) \n",
    "     REG_WR r0 op -op(r0-#1) -uf \n",
    "     REG_WR s13 op -op(s13 + #1) \n",
    "     JUMP REPS -if(NZ)\n",
    "     REG_WR s13 op -op(s13 + #1000) \n",
    "     JUMP HERE \n",
    "\"\"\"\n",
    "p_txt, p_bin  = Assembler.str_asm2bin(asm)\n",
    "\n",
    "soc.tproc.Load_PMEM(p_bin)\n",
    "\n",
    "soc.tproc.start()\n",
    "\n",
    "\n",
    "soc.tproc.tproc_w_dt1 = 12345\n",
    "soc.tproc.tproc_w_dt2 = 6789\n",
    "soc.tproc.core_cfg  = 1\n",
    "\n",
    "src_list = ['TPROC_W_DT','CORE0_W_DT','RFU','DIV (Q-R)','ARITH(L-H)','TNET','PERIPH','PORT','RAND','RFU','RFU','RFU','RFU','RFU','RFU','RFU',]\n",
    "for ind in range(16):\n",
    "    soc.tproc.read_sel  = ind\n",
    "    print(\"{:10} ( READ_SEL={:2} ) = {:10}-{:10}\".format(src_list[ind],soc.tproc.read_sel, soc.tproc.tproc_r_dt1, soc.tproc.tproc_r_dt2) )\n",
    "\n",
    "\n",
    "print('---------------------------------------------')\n",
    "print(\"Reading Data Memory:\")\n",
    "Data_qty = 10\n",
    "#read_mem(mem_sel, addr, length):\n",
    "rd_buff = soc.tproc.read_mem(2, 0, Data_qty)\n",
    "print(rd_buff)         "
   ]
  },
  {
   "cell_type": "code",
   "execution_count": null,
   "id": "f33f383a",
   "metadata": {},
   "outputs": [],
   "source": [
    "\n",
    "\n",
    "\n",
    "        "
   ]
  }
 ],
 "metadata": {
  "kernelspec": {
   "display_name": "Python 3 (ipykernel)",
   "language": "python",
   "name": "python3"
  },
  "language_info": {
   "codemirror_mode": {
    "name": "ipython",
    "version": 3
   },
   "file_extension": ".py",
   "mimetype": "text/x-python",
   "name": "python",
   "nbconvert_exporter": "python",
   "pygments_lexer": "ipython3",
   "version": "3.10.4"
  }
 },
 "nbformat": 4,
 "nbformat_minor": 5
}
