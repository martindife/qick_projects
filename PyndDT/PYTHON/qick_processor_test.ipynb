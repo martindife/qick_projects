{
 "cells": [
  {
   "cell_type": "code",
   "execution_count": null,
   "id": "04807459",
   "metadata": {},
   "outputs": [],
   "source": [
    "## QICK LIBRARY\n",
    "from qick import *\n",
    "\n",
    "from random import random\n",
    "import time\n",
    "import pickle\n",
    "import numpy as np\n",
    "\n",
    "## tProc Assembler\n",
    "from qick.tprocv2_assembler import Assembler, Logger\n",
    "\n",
    "##### Load FGPA BitStream\n",
    "\n",
    "##################\n",
    "soc = QickSoc('./qick_216_seb.bit')"
   ]
  }
 ],
 "metadata": {
  "kernelspec": {
   "display_name": "Python 3",
   "language": "python",
   "name": "python3"
  },
  "language_info": {
   "codemirror_mode": {
    "name": "ipython",
    "version": 3
   },
   "file_extension": ".py",
   "mimetype": "text/x-python",
   "name": "python",
   "nbconvert_exporter": "python",
   "pygments_lexer": "ipython3",
   "version": "3.8.2"
  }
 },
 "nbformat": 4,
 "nbformat_minor": 5
}
