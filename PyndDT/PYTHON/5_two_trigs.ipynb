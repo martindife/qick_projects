{
 "cells": [
  {
   "cell_type": "code",
   "execution_count": 1,
   "id": "3b5c048a",
   "metadata": {},
   "outputs": [
    {
     "data": {
      "application/javascript": [
       "\n",
       "try {\n",
       "require(['notebook/js/codecell'], function(codecell) {\n",
       "  codecell.CodeCell.options_default.highlight_modes[\n",
       "      'magic_text/x-csrc'] = {'reg':[/^%%microblaze/]};\n",
       "  Jupyter.notebook.events.one('kernel_ready.Kernel', function(){\n",
       "      Jupyter.notebook.get_cells().map(function(cell){\n",
       "          if (cell.cell_type == 'code'){ cell.auto_highlight(); } }) ;\n",
       "  });\n",
       "});\n",
       "} catch (e) {};\n"
      ]
     },
     "metadata": {},
     "output_type": "display_data"
    },
    {
     "data": {
      "application/javascript": [
       "\n",
       "try {\n",
       "require(['notebook/js/codecell'], function(codecell) {\n",
       "  codecell.CodeCell.options_default.highlight_modes[\n",
       "      'magic_text/x-csrc'] = {'reg':[/^%%pybind11/]};\n",
       "  Jupyter.notebook.events.one('kernel_ready.Kernel', function(){\n",
       "      Jupyter.notebook.get_cells().map(function(cell){\n",
       "          if (cell.cell_type == 'code'){ cell.auto_highlight(); } }) ;\n",
       "  });\n",
       "});\n",
       "} catch (e) {};\n"
      ]
     },
     "metadata": {},
     "output_type": "display_data"
    }
   ],
   "source": [
    "## QICK LIBRARY\n",
    "from qick import *\n",
    "\n",
    "## tProc Assembler\n",
    "from qick.tprocv2_assembler import Assembler, Logger, LFSR\n",
    "\n",
    "import numpy as np\n",
    "import time\n",
    "\n",
    "import qick.tprocv2_assembler as qasm\n",
    "from importlib import reload  # Python 3.4+\n",
    "    \n",
    "##### Load FGPA BitStream\n",
    "soc = QickSoc('./qick_4x2_jac.bit')\n"
   ]
  },
  {
   "cell_type": "code",
   "execution_count": 17,
   "id": "0e99cec7",
   "metadata": {},
   "outputs": [
    {
     "name": "stdout",
     "output_type": "stream",
     "text": [
      "{'P_ADDR': 25, 'LINE': 55, 'TIME': '@100', 'CMD': 'WAIT', 'C_OP': 'time', 'UF': '0'}\n",
      "TIME_USR:  0\n",
      "--- LOADING MEM\n"
     ]
    }
   ],
   "source": [
    "reload(qasm)\n",
    "asm = \"\"\"\n",
    "//TEST program//TEST program\n",
    ".ALIAS repeat_cnt r0\n",
    ".ALIAS pulse_start  r1\n",
    ".ALIAS pulse_moving_off   r3\n",
    "\n",
    "//.CONST pulse_repeat_w     #500000\n",
    "//.CONST pulse_w            #1000\n",
    "//.CONST pulse_central_off  #500\n",
    "//.CONST total_repeat #500\n",
    "//.CONST velocity #2\n",
    "\n",
    ".CONST pulse_repeat_w     #500\n",
    ".CONST pulse_w            #100\n",
    ".CONST pulse_central_off  #50\n",
    ".CONST total_repeat #10\n",
    ".CONST velocity #2\n",
    "\n",
    "\n",
    "REG_WR s12 imm #12\n",
    "REG_WR s13 imm #13\n",
    "\n",
    "INIT:\n",
    "\n",
    "REG_WR repeat_cnt imm total_repeat\n",
    "REG_WR repeat_cnt op -op(repeat_cnt - #1) -uf\n",
    "\n",
    "// set up pulse wave\n",
    "REG_WR w_freq imm #5000000\n",
    "REG_WR w_phase imm #700000000\n",
    "REG_WR w_gain imm #50000\n",
    "REG_WR w_length imm #215\n",
    "\n",
    "TRIG_LOOP:\n",
    "   TIME inc_ref pulse_repeat_w\n",
    "   REG_WR pulse_start imm #1000\n",
    "   REG_WR out_usr_time op -op(pulse_start)\n",
    "   // ENVELOPE RISE\n",
    "   TRIG p0 set\n",
    "   WPORT_WR p0 r_wave\n",
    "      // CENTRAL PULSE\n",
    "      REG_WR out_usr_time op -op(pulse_start + pulse_central_off)\n",
    "      TRIG p1 set \n",
    "      REG_WR out_usr_time op -op(out_usr_time + #10)\n",
    "      TRIG p1 clr \n",
    "      // MOVING PULSE\n",
    "      REG_WR pulse_moving_off op -op(pulse_moving_off + velocity)\n",
    "      REG_WR out_usr_time op -op(pulse_start + pulse_moving_off)\n",
    "      TRIG p2 set\n",
    "      REG_WR out_usr_time op -op(out_usr_time + #10)\n",
    "      TRIG p2 clr\n",
    "      // ENVELOPE FALL\n",
    "      REG_WR out_usr_time op -op(pulse_start + pulse_w) \n",
    "      TRIG p0 clr \n",
    "   //JUMP TRIG_LOOP -wr(repeat_cnt op) -op(repeat_cnt - #1) -if(NZ) -uf\n",
    "   WAIT time @100\n",
    "   REG_WR repeat_cnt op -op(repeat_cnt - #1) -uf\n",
    "   JUMP TRIG_LOOP -if(NZ)\n",
    "\n",
    "END: \n",
    "    JUMP END\n",
    "\n",
    "\"\"\"\n",
    "\n",
    "p_txt, p_bin             = Assembler.str_asm2bin(asm)\n",
    "soc.tproc.Load_PMEM(p_bin)\n",
    "\n",
    "# Python READS CORE0_W_DT\n",
    "soc.tproc.read_sel  = 1\n",
    "soc.tproc.reset()\n",
    "\n",
    "print('TIME_USR: ', soc.tproc.time_usr)\n",
    "QTY = 200\n",
    "\n",
    "\n",
    "print('--- LOADING MEM')\n",
    "soc.tproc.Load_PMEM(p_bin)\n",
    "#The ZCU216 has a tproc_start and tproc_stop\n",
    "soc.tproc.start()\n",
    "#soc.tproc.axi()\n",
    "\n"
   ]
  },
  {
   "cell_type": "code",
   "execution_count": null,
   "id": "e03831fb",
   "metadata": {},
   "outputs": [],
   "source": []
  }
 ],
 "metadata": {
  "kernelspec": {
   "display_name": "Python 3 (ipykernel)",
   "language": "python",
   "name": "python3"
  },
  "language_info": {
   "codemirror_mode": {
    "name": "ipython",
    "version": 3
   },
   "file_extension": ".py",
   "mimetype": "text/x-python",
   "name": "python",
   "nbconvert_exporter": "python",
   "pygments_lexer": "ipython3",
   "version": "3.10.4"
  }
 },
 "nbformat": 4,
 "nbformat_minor": 5
}
