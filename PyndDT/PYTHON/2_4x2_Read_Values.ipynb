{
 "cells": [
  {
   "cell_type": "code",
   "execution_count": 1,
   "id": "b2b053fc",
   "metadata": {},
   "outputs": [
    {
     "data": {
      "application/javascript": [
       "\n",
       "try {\n",
       "require(['notebook/js/codecell'], function(codecell) {\n",
       "  codecell.CodeCell.options_default.highlight_modes[\n",
       "      'magic_text/x-csrc'] = {'reg':[/^%%microblaze/]};\n",
       "  Jupyter.notebook.events.one('kernel_ready.Kernel', function(){\n",
       "      Jupyter.notebook.get_cells().map(function(cell){\n",
       "          if (cell.cell_type == 'code'){ cell.auto_highlight(); } }) ;\n",
       "  });\n",
       "});\n",
       "} catch (e) {};\n"
      ]
     },
     "metadata": {},
     "output_type": "display_data"
    },
    {
     "data": {
      "application/javascript": [
       "\n",
       "try {\n",
       "require(['notebook/js/codecell'], function(codecell) {\n",
       "  codecell.CodeCell.options_default.highlight_modes[\n",
       "      'magic_text/x-csrc'] = {'reg':[/^%%pybind11/]};\n",
       "  Jupyter.notebook.events.one('kernel_ready.Kernel', function(){\n",
       "      Jupyter.notebook.get_cells().map(function(cell){\n",
       "          if (cell.cell_type == 'code'){ cell.auto_highlight(); } }) ;\n",
       "  });\n",
       "});\n",
       "} catch (e) {};\n"
      ]
     },
     "metadata": {},
     "output_type": "display_data"
    }
   ],
   "source": [
    "## QICK LIBRARY\n",
    "from qick import *\n",
    "\n",
    "from random import random\n",
    "import time\n",
    "import pickle\n",
    "import numpy as np\n",
    "\n",
    "## tProc Assembler\n",
    "from qick.tprocv2_assembler import Assembler, Logger\n",
    "\n",
    "##### Load FGPA BitStream\n",
    "\n",
    "##################\n",
    "soc = QickSoc('./qick_216_seb.bit')\n"
   ]
  },
  {
   "cell_type": "code",
   "execution_count": 12,
   "id": "cb806690",
   "metadata": {},
   "outputs": [
    {
     "name": "stdout",
     "output_type": "stream",
     "text": [
      "     REG_WR s12 imm #12 \n",
      "     REG_WR s13 imm #13 \n",
      "     REG_WR r1 imm #9 \n",
      "     REG_WR r2 imm #4 \n",
      "     DIV r1 r2 \n",
      "     REG_WR r1 imm #2 \n",
      "     REG_WR r2 imm #3 \n",
      "     REG_WR r3 imm #5 \n",
      "     REG_WR r4 imm #10 \n",
      "     ARITH PTM r1 r2 r3 r4 \n",
      "     FLAG set \n",
      "\n",
      "000_000__000___00__0_00_00______00000000000_000000_________00000000000000000000000000000000_0000000\n",
      "100_011__000___11__0_00_00______00000000000_000000_________00000000000000000000000000001100_0001100\n",
      "100_011__000___11__0_00_00______00000000000_000000_________00000000000000000000000000001101_0001101\n",
      "100_011__000___11__0_00_00______00000000000_000000_________00000000000000000000000000001001_0100001\n",
      "100_011__000___11__0_00_00______00000000000_000000_________00000000000000000000000000000100_0100010\n",
      "111_010______00001___01000_____00000___000000_000000__0_0100001__0_0100010_0000000000000000_0000000\n",
      "100_011__000___11__0_00_00______00000000000_000000_________00000000000000000000000000000010_0100001\n",
      "100_011__000___11__0_00_00______00000000000_000000_________00000000000000000000000000000011_0100010\n",
      "100_011__000___11__0_00_00______00000000000_000000_________00000000000000000000000000000101_0100011\n",
      "100_011__000___11__0_00_00______00000000000_000000_________00000000000000000000000000001010_0100100\n",
      "111_000______00101___00100___00000___100100__100010__0_0100001__0_0100011__0000000000000000_0000000\n",
      "111_010______00001___00010_____00000___000000_000000__0_0000000__0_0000000_0000000000000000_0000000\n",
      "TIME_USR:  67384\n",
      "TIME_USR:  58601\n",
      "TIME_USR:  409585\n",
      "TIME_USR:  409585\n",
      "TPROC_W_DT ( READ_SEL= 0 ) =      12345-      6789\n",
      "CORE0_W_DT ( READ_SEL= 1 ) =         12-        13\n",
      "RFU        ( READ_SEL= 2 ) =          0-         0\n",
      "DIV (Q-R)  ( READ_SEL= 3 ) =          2-         1\n",
      "ARITH(L-H) ( READ_SEL= 4 ) =         15-         0\n",
      "TNET       ( READ_SEL= 5 ) =          0-         0\n",
      "PERIPH     ( READ_SEL= 6 ) =          0-         0\n",
      "PORT       ( READ_SEL= 7 ) =          0-         0\n",
      "RAND       ( READ_SEL= 8 ) = 4044294305-         0\n",
      "RFU        ( READ_SEL= 9 ) =          9-         9\n",
      "RFU        ( READ_SEL=10 ) =          0-         0\n",
      "RFU        ( READ_SEL=11 ) =          0-         0\n",
      "RFU        ( READ_SEL=12 ) =          0-         0\n",
      "RFU        ( READ_SEL=13 ) =          0-         0\n",
      "RFU        ( READ_SEL=14 ) =          0-         0\n",
      "RFU        ( READ_SEL=15 ) =          0-         0\n"
     ]
    }
   ],
   "source": [
    "a = \"My string\"\n",
    "asm = \"\"\"\n",
    "//TEST program\n",
    "// Write CORE_W_DT SFR\n",
    "REG_WR s12 imm #12\n",
    "REG_WR s13 imm #13\n",
    "\n",
    "// Calculate 9 / 4 > Q=2 R=1\n",
    "REG_WR r1 imm #9\n",
    "REG_WR r2 imm #4\n",
    "DIV r1 r2\n",
    "// Calculate (2+3)*5-10 = 15\n",
    "REG_WR r1 imm #2\n",
    "REG_WR r2 imm #3\n",
    "REG_WR r3 imm #5\n",
    "REG_WR r4 imm #10\n",
    "ARITH PTM r1 r2 r3 r4\n",
    "FLAG set\n",
    "\"\"\"\n",
    "\n",
    "#p_list        = Assembler.str_asm2list(asm)\n",
    "## Print Program List \n",
    "#for ind in p_list[0]:\n",
    "#    print(ind)\n",
    "p_asm         = Assembler.list2asm(p_list[0], p_list[1])\n",
    "# Print Generated Assembler from Program List\n",
    "print(p_asm)\n",
    "\n",
    "p_txt, p_bin  = Assembler.str_asm2bin(asm)\n",
    "## Print Binary code\n",
    "for ind in p_txt:\n",
    "    print(ind)\n",
    "\n",
    "soc.tproc.Load_PMEM(p_bin)\n",
    "\n",
    "soc.tproc.time_reset()\n",
    "print('TIME_USR: ', soc.tproc.time_usr)\n",
    "soc.tproc.start()\n",
    "print('TIME_USR: ', soc.tproc.time_usr)\n",
    "soc.tproc.stop()\n",
    "print('TIME_USR: ', soc.tproc.time_usr)\n",
    "print('TIME_USR: ', soc.tproc.time_usr)\n",
    "\n",
    "soc.tproc.tproc_w_dt1 = 12345\n",
    "soc.tproc.tproc_w_dt2 = 6789\n",
    "soc.tproc.core_cfg  = 1\n",
    "\n",
    "src_list = ['TPROC_W_DT','CORE0_W_DT','RFU','DIV (Q-R)','ARITH(L-H)','TNET','PERIPH','PORT','RAND','RFU','RFU','RFU','RFU','RFU','RFU','RFU',]\n",
    "for ind in range(16):\n",
    "    soc.tproc.read_sel  = ind\n",
    "    print(\"{:10} ( READ_SEL={:2} ) = {:10}-{:10}\".format(src_list[ind],soc.tproc.read_sel, soc.tproc.tproc_r_dt1, soc.tproc.tproc_r_dt2) )\n",
    "\n"
   ]
  },
  {
   "cell_type": "code",
   "execution_count": null,
   "id": "3ba056e1",
   "metadata": {},
   "outputs": [],
   "source": [
    "soc.tproc.start()\n",
    "soc.tproc.get_axi()\n",
    "soc.tproc.get_status()\n",
    "soc.tproc.get_debug()\n",
    "print('TIME_USR: ', soc.tproc.time_usr)\n",
    "print('TIME_USR: ', soc.tproc.time_usr)\n",
    "\n"
   ]
  },
  {
   "cell_type": "code",
   "execution_count": null,
   "id": "c711cd1a",
   "metadata": {},
   "outputs": [],
   "source": []
  }
 ],
 "metadata": {
  "kernelspec": {
   "display_name": "Python 3",
   "language": "python",
   "name": "python3"
  },
  "language_info": {
   "codemirror_mode": {
    "name": "ipython",
    "version": 3
   },
   "file_extension": ".py",
   "mimetype": "text/x-python",
   "name": "python",
   "nbconvert_exporter": "python",
   "pygments_lexer": "ipython3",
   "version": "3.8.2"
  }
 },
 "nbformat": 4,
 "nbformat_minor": 5
}
