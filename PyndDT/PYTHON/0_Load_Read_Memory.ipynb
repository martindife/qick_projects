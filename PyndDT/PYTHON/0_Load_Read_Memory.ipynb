{
 "cells": [
  {
   "cell_type": "code",
   "execution_count": 1,
   "id": "d3fa2216",
   "metadata": {},
   "outputs": [
    {
     "data": {
      "application/javascript": [
       "\n",
       "try {\n",
       "require(['notebook/js/codecell'], function(codecell) {\n",
       "  codecell.CodeCell.options_default.highlight_modes[\n",
       "      'magic_text/x-csrc'] = {'reg':[/^%%microblaze/]};\n",
       "  Jupyter.notebook.events.one('kernel_ready.Kernel', function(){\n",
       "      Jupyter.notebook.get_cells().map(function(cell){\n",
       "          if (cell.cell_type == 'code'){ cell.auto_highlight(); } }) ;\n",
       "  });\n",
       "});\n",
       "} catch (e) {};\n"
      ]
     },
     "metadata": {},
     "output_type": "display_data"
    },
    {
     "data": {
      "application/javascript": [
       "\n",
       "try {\n",
       "require(['notebook/js/codecell'], function(codecell) {\n",
       "  codecell.CodeCell.options_default.highlight_modes[\n",
       "      'magic_text/x-csrc'] = {'reg':[/^%%pybind11/]};\n",
       "  Jupyter.notebook.events.one('kernel_ready.Kernel', function(){\n",
       "      Jupyter.notebook.get_cells().map(function(cell){\n",
       "          if (cell.cell_type == 'code'){ cell.auto_highlight(); } }) ;\n",
       "  });\n",
       "});\n",
       "} catch (e) {};\n"
      ]
     },
     "metadata": {},
     "output_type": "display_data"
    }
   ],
   "source": [
    "## QICK LIBRARY\n",
    "from qick import *\n",
    "\n",
    "## tProc Assembler\n",
    "from qick.tprocv2_assembler import Assembler, Logger\n",
    "\n",
    "import numpy as np\n",
    "import time\n",
    "\n",
    "##### Load FGPA BitStream\n",
    "soc = QickSoc('./qick_216_jac.bit')\n",
    "\n"
   ]
  },
  {
   "cell_type": "code",
   "execution_count": 12,
   "id": "e1f4dd33",
   "metadata": {},
   "outputs": [
    {
     "name": "stdout",
     "output_type": "stream",
     "text": [
      "---------------------------------------------\n",
      "Loading Data Memory:\n",
      "Reading Data Memory:\n",
      "Load and Read Succesfully\n",
      "---------------------------------------------\n",
      "Loading WaveParam Memory:\n",
      "Reading WaveParam Memory:\n",
      "Load and Read Succesfully\n",
      "---------------------------------------------\n",
      "Loading Program Memory From PICKLE File : program_mem.pkl\n",
      "Reading Program Memory:\n",
      "Load and Read Succesfully\n",
      "---------------------------------------------\n"
     ]
    }
   ],
   "source": [
    "print('---------------------------------------------')\n",
    "print('Loading Data Memory:')\n",
    "Data_qty     = 10\n",
    "\n",
    "wr_buff = []\n",
    "for i in range(Data_qty):\n",
    "    a = int(random()*999999)\n",
    "    wr_buff.append( [a, 0,0,0,0,0,0,0] )\n",
    "    ## ERROR, value are 64 bits\n",
    "    #wr_buff.append( [i, i,0,0,0,0,0,0] )\n",
    "#print(np.array(wr_buff))\n",
    "\n",
    "## load_mem(mem_sel, buff_in, addr):\n",
    "soc.tproc.load_mem(2, wr_buff, 0)\n",
    "\n",
    "print(\"Reading Data Memory:\")\n",
    "#read_mem(mem_sel, addr, length):\n",
    "rd_buff = soc.tproc.read_mem(2, 0, Data_qty)\n",
    "#print(rd_buff)\n",
    "\n",
    "d_mem_read  = np.array(rd_buff)\n",
    "d_mem_write = np.array(wr_buff)\n",
    "error = np.max(d_mem_write - d_mem_read)\n",
    "if error == 0:\n",
    "    print('Load and Read Succesfully')\n",
    "else:    \n",
    "    print('Error')\n",
    "\n",
    "print('---------------------------------------------')\n",
    "print('Loading WaveParam Memory:')\n",
    "Data_qty     = 15\n",
    "\n",
    "wr_buff = []\n",
    "for i in range(Data_qty):\n",
    "    f = int(random()*99999)\n",
    "    p = int(random()*99999)\n",
    "    g = int(random()*128)\n",
    "    e = int(random()*64)\n",
    "    l = int(random()*32)\n",
    "    c = int(random()*8)\n",
    "    wr_buff.append( [f, p,g,e,l,c,0,0] )\n",
    "#print(np.array(wr_buff))\n",
    "\n",
    "## load_mem(mem_sel, buff_in, addr):\n",
    "soc.tproc.load_mem(3, wr_buff, 0)\n",
    "\n",
    "print(\"Reading WaveParam Memory:\")\n",
    "#read_mem(mem_sel, addr, length):\n",
    "rd_buff = soc.tproc.read_mem(3, 0, Data_qty)\n",
    "#print(rd_buff)\n",
    "\n",
    "\n",
    "d_mem_read  = np.array(rd_buff)\n",
    "d_mem_write = np.array(wr_buff)\n",
    "error = np.max(d_mem_write - d_mem_read)\n",
    "if error == 0:\n",
    "    print('Load and Read Succesfully')\n",
    "else:    \n",
    "    print('Error')\n",
    "\n",
    "print('---------------------------------------------')\n",
    "\n",
    "##### LOAD PROGRAM FROM FILE\n",
    "data_filename = \"program_mem.pkl\"\n",
    "\n",
    "print(\"Loading Program Memory From PICKLE File : \" + data_filename)\n",
    "p_mem = pickle.load(open(data_filename, 'rb'))\n",
    "\n",
    "soc.tproc.Load_PMEM(p_mem)\n",
    "\n",
    "print(\"Reading Program Memory:\")\n",
    "rd_buff = soc.tproc.read_mem(1, 0, len(p_mem) )\n",
    "\n",
    "d_mem_read  = np.array(rd_buff).astype(np.int32)\n",
    "d_mem_write = np.array(p_mem).astype(np.int32)\n",
    "error = np.max(d_mem_write - d_mem_read)\n",
    "if error == 0:\n",
    "    print('Load and Read Succesfully')\n",
    "else:    \n",
    "    print('Error')\n",
    "\n",
    "print('---------------------------------------------')\n"
   ]
  },
  {
   "cell_type": "code",
   "execution_count": null,
   "id": "d2eba3c4",
   "metadata": {},
   "outputs": [],
   "source": []
  }
 ],
 "metadata": {
  "kernelspec": {
   "display_name": "Python 3",
   "language": "python",
   "name": "python3"
  },
  "language_info": {
   "codemirror_mode": {
    "name": "ipython",
    "version": 3
   },
   "file_extension": ".py",
   "mimetype": "text/x-python",
   "name": "python",
   "nbconvert_exporter": "python",
   "pygments_lexer": "ipython3",
   "version": "3.8.2"
  }
 },
 "nbformat": 4,
 "nbformat_minor": 5
}
